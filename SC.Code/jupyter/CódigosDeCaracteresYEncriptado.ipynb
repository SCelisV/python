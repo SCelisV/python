{
 "cells": [
  {
   "cell_type": "markdown",
   "metadata": {
    "colab_type": "text",
    "id": "ml6rHqNjP7Wb"
   },
   "source": [
    "## Códigos de caracteres - ASCII - \n",
    "American Standard Code for Information Interchange - 7bit = 128 caracteres\n",
    "primeros 32 caracteres son de control like '\\n'"
   ]
  },
  {
   "cell_type": "markdown",
   "metadata": {
    "colab_type": "text",
    "id": "lZYxvvEEQdtx"
   },
   "source": [
    "Veamos cómo almacena Python cualquier caracter de texto (letra, número, símbolo) "
   ]
  },
  {
   "cell_type": "markdown",
   "metadata": {
    "colab_type": "text",
    "id": "ml6rHqNjP7Wb"
   },
   "source": [
    "## Códigos de caracteres - EBCDIC - \n",
    "IBM - System 360 - 8bit = 256 caracteres"
   ]
  },
  {
   "cell_type": "markdown",
   "metadata": {
    "colab_type": "text",
    "id": "ml6rHqNjP7Wb"
   },
   "source": [
    "## Códigos de caracteres - Unicode - Universal - Uniforme - Único\n",
    "Independiente del lenguaje => cualquier lenguaje del mundo"
   ]
  },
  {
   "cell_type": "markdown",
   "metadata": {},
   "source": [
    " UTF-8 => códificación en la web => lóngitud variable"
   ]
  },
  {
   "cell_type": "markdown",
   "metadata": {},
   "source": [
    "1byte => ASCII\n",
    "+1 byte => lenguas romance, griego, arabe,\n",
    "+1 byte => chino, japones, coreano\n",
    "+1 byte => para algunos caracteres suplementarios "
   ]
  },
  {
   "cell_type": "code",
   "execution_count": 4,
   "metadata": {},
   "outputs": [
    {
     "data": {
      "text/plain": [
       "97"
      ]
     },
     "execution_count": 4,
     "metadata": {},
     "output_type": "execute_result"
    }
   ],
   "source": [
    "letra=\"a\"\n",
    "ord(letra)"
   ]
  },
  {
   "cell_type": "code",
   "execution_count": 5,
   "metadata": {
    "colab": {},
    "colab_type": "code",
    "id": "YBymJnpbQdfo"
   },
   "outputs": [
    {
     "data": {
      "text/plain": [
       "33"
      ]
     },
     "execution_count": 5,
     "metadata": {},
     "output_type": "execute_result"
    }
   ],
   "source": [
    "letra=\"!\"\n",
    "ord(letra)"
   ]
  },
  {
   "cell_type": "code",
   "execution_count": 9,
   "metadata": {
    "colab": {},
    "colab_type": "code",
    "id": "YBymJnpbQdfo"
   },
   "outputs": [
    {
     "data": {
      "text/plain": [
       "126"
      ]
     },
     "execution_count": 9,
     "metadata": {},
     "output_type": "execute_result"
    }
   ],
   "source": [
    "letra=\"~\"\n",
    "ord(letra)"
   ]
  },
  {
   "cell_type": "markdown",
   "metadata": {
    "colab_type": "text",
    "id": "hFmjFikeQ_Q5"
   },
   "source": [
    "También podemos obtener la letra correspondiente a un número del código"
   ]
  },
  {
   "cell_type": "code",
   "execution_count": 8,
   "metadata": {
    "colab": {},
    "colab_type": "code",
    "id": "Co9O5q5KRG0H"
   },
   "outputs": [
    {
     "data": {
      "text/plain": [
       "'!'"
      ]
     },
     "execution_count": 8,
     "metadata": {},
     "output_type": "execute_result"
    }
   ],
   "source": [
    "chr(33)"
   ]
  },
  {
   "cell_type": "code",
   "execution_count": 6,
   "metadata": {
    "colab": {},
    "colab_type": "code",
    "id": "Co9O5q5KRG0H"
   },
   "outputs": [
    {
     "data": {
      "text/plain": [
       "'a'"
      ]
     },
     "execution_count": 6,
     "metadata": {},
     "output_type": "execute_result"
    }
   ],
   "source": [
    "chr(97)"
   ]
  },
  {
   "cell_type": "code",
   "execution_count": 10,
   "metadata": {
    "colab": {},
    "colab_type": "code",
    "id": "Co9O5q5KRG0H"
   },
   "outputs": [
    {
     "data": {
      "text/plain": [
       "'~'"
      ]
     },
     "execution_count": 10,
     "metadata": {},
     "output_type": "execute_result"
    }
   ],
   "source": [
    "chr(126)"
   ]
  },
  {
   "cell_type": "markdown",
   "metadata": {
    "colab_type": "text",
    "id": "lZYxvvEEQdtx"
   },
   "source": [
    "Podemos ver también los códigos de todos los caracteres de una cadena:"
   ]
  },
  {
   "cell_type": "code",
   "execution_count": 83,
   "metadata": {
    "colab": {},
    "colab_type": "code",
    "id": "Co9O5q5KRG0H"
   },
   "outputs": [
    {
     "name": "stdout",
     "output_type": "stream",
     "text": [
      "[83, 111, 110, 105, 97, 32, 67, 101, 108, 105, 115, 32, 86, 97, 115, 113, 117, 101, 122]\n"
     ]
    }
   ],
   "source": [
    "# Imprime los códigos de los caracteres de cadena\n",
    "myCadena=\"Sonia Celis Vasquez\"\n",
    "myList=[ord(letra) for letra in myCadena]\n",
    "print (myList)"
   ]
  },
  {
   "cell_type": "code",
   "execution_count": 68,
   "metadata": {
    "colab": {},
    "colab_type": "code",
    "id": "Co9O5q5KRG0H"
   },
   "outputs": [
    {
     "name": "stdout",
     "output_type": "stream",
     "text": [
      "['S', 'o', 'n', 'i', 'a', ' ', 'C', 'e', 'l', 'i', 's', ' ', 'V', 'a', 's', 'q', 'u', 'e', 'z']\n"
     ]
    }
   ],
   "source": [
    "# Imprime la cadena correspondiente a los ASCCI\n",
    "myList_02=[chr(char) for char in myList]\n",
    "print (myList_02)"
   ]
  },
  {
   "cell_type": "markdown",
   "metadata": {
    "colab_type": "text",
    "id": "lZYxvvEEQdtx"
   },
   "source": [
    "Forma de encriptar => encriptación por desplazamiento(displacement), también conocida como cifrado César (https://es.wikipedia.org/wiki/Cifrado_C%C3%A9sar):"
   ]
  },
  {
   "cell_type": "code",
   "execution_count": 88,
   "metadata": {},
   "outputs": [
    {
     "name": "stdout",
     "output_type": "stream",
     "text": [
      "['Z', 'v', 'u', 'p', 'h', \"'\", 'J', 'l', 's', 'p', 'z', \"'\", ']', 'h', 'z', 'x', '|', 'l', '\\x81']\n",
      "Zvuph'Jlspz']hzx|l\n"
     ]
    }
   ],
   "source": [
    "#One Way - Encriptar\n",
    "myListaEncript=\"\"\n",
    "displac=7\n",
    "myListaEncript = [chr((ord(char) + displac)) for char in myList_02]\n",
    "print (myListaEncript)\n",
    "myCadenaEncript = \"\"\n",
    "for char in myListaEncript:\n",
    "    myCadenaEncript = myCadenaEncript + str(char) \n",
    "print (myCadenaEncript)"
   ]
  },
  {
   "cell_type": "code",
   "execution_count": 89,
   "metadata": {},
   "outputs": [
    {
     "name": "stdout",
     "output_type": "stream",
     "text": [
      "['S', 'o', 'n', 'i', 'a', ' ', 'C', 'e', 'l', 'i', 's', ' ', 'V', 'a', 's', 'q', 'u', 'e', 'z']\n",
      "Sonia Celis Vasquez\n"
     ]
    }
   ],
   "source": [
    "myListaDesencript=\"\"\n",
    "displac=7\n",
    "myListaDesencript = [chr((ord(char) - displac)) for char in myListaEncript]\n",
    "print (myListaDesencript)\n",
    "myCadena = \"\"\n",
    "for char in myListaDesencript:\n",
    "    myCadena = myCadena + str(char) \n",
    "print (myCadena)"
   ]
  },
  {
   "cell_type": "code",
   "execution_count": 90,
   "metadata": {},
   "outputs": [
    {
     "name": "stdout",
     "output_type": "stream",
     "text": [
      "Sonia Celis Vasquez\n",
      "Zvuph'Jlspz']hzx|l\n",
      "Sonia Celis Vasquez\n"
     ]
    }
   ],
   "source": [
    "#Other Way - Encriptar\n",
    "cadena=\"Sonia Celis Vasquez\"\n",
    "cadenacodificada=\"\"\n",
    "desplazamiento=7\n",
    "for letra in cadena:\n",
    "    cadenacodificada=cadenacodificada+chr(ord(letra)+desplazamiento)\n",
    "cadenadecodificada=''\n",
    "for letra in cadenacodificada:\n",
    "    cadenadecodificada=cadenadecodificada+chr(ord(letra)-desplazamiento)\n",
    "\n",
    "print(cadena)\n",
    "print(cadenacodificada)\n",
    "print(cadenadecodificada)"
   ]
  }
 ],
 "metadata": {
  "colab": {
   "name": "pythonUPVX36.ipynb",
   "provenance": []
  },
  "kernelspec": {
   "display_name": "Python 3",
   "language": "python",
   "name": "python3"
  },
  "language_info": {
   "codemirror_mode": {
    "name": "ipython",
    "version": 3
   },
   "file_extension": ".py",
   "mimetype": "text/x-python",
   "name": "python",
   "nbconvert_exporter": "python",
   "pygments_lexer": "ipython3",
   "version": "3.7.4"
  }
 },
 "nbformat": 4,
 "nbformat_minor": 1
}
