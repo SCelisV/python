{
 "cells": [
  {
   "cell_type": "markdown",
   "metadata": {},
   "source": [
    "# Códigos de caracteres en ficheros\n",
    "\n",
    "OJO - hacer la prueba con un fichero guardado en windows.. \n",
    "'quijoteutf8.txt' y 'quijoteansi.txt \n",
    "\n",
    "utf-8 y ansi."
   ]
  },
  {
   "cell_type": "code",
   "execution_count": 1,
   "metadata": {},
   "outputs": [
    {
     "data": {
      "text/plain": [
       "'Release Date: December, 1999'"
      ]
     },
     "execution_count": 1,
     "metadata": {},
     "output_type": "execute_result"
    }
   ],
   "source": [
    "\n",
    "# definimos una función que cargue todos los párrafos y seleccione uno \n",
    "def parrafo(numerodeparrafo):\n",
    "    #primero cargamos el fichero\n",
    "    fichero = open('quijote.txt',\"r\")\n",
    "    #lo leemos\n",
    "    texto = fichero.read()\n",
    "    #y seleccionamos el párrafo indicado en el parámetro \n",
    "    parrafos = texto.split('\\n')\n",
    "    while '' in parrafos: \n",
    "        parrafos.remove('')    \n",
    "    parrafoseleccionado=parrafos[numerodeparrafo]\n",
    "   \n",
    "    #acordaos de cerrar el fichero si no lo habéis abierto con un with\n",
    "    fichero.close()    \n",
    "    return(parrafoseleccionado)\n",
    "\n",
    "parrafo(8)\n"
   ]
  },
  {
   "cell_type": "markdown",
   "metadata": {},
   "source": [
    "Incorporamos ahora un parámetro a la carga del fichero para indicar a Python el código de caracteres."
   ]
  },
  {
   "cell_type": "code",
   "execution_count": 2,
   "metadata": {},
   "outputs": [
    {
     "data": {
      "text/plain": [
       "'varios y nunca imaginados de otro alguno, bien como quien se engendró en'"
      ]
     },
     "execution_count": 2,
     "metadata": {},
     "output_type": "execute_result"
    }
   ],
   "source": [
    "def parrafo(numerodeparrafo):\n",
    "    #primero cargamos el fichero\n",
    "    #fichero = open('quijoteutf8.txt', \"r\", encoding=\"utf-8\")\n",
    "    #fichero = open('quijote.txt', \"r\", encoding=\"ansi\")\n",
    "    #fichero = open('quijote.txt', \"r\", encoding=\"ansi\")\n",
    "    #fichero = open('quijoteansi.txt', \"r\", encoding=\"utf-8\")\n",
    "    fichero = open('quijoteISO88592.txt', 'r', encoding=\"ISO 8859-2\")\n",
    "    \n",
    "    #lo leemos\n",
    "    texto = fichero.read()\n",
    "    #y seleccionamos el párrafo indicado en el parámetro \n",
    "    parrafos = texto.split('\\n')\n",
    "    while '' in parrafos: \n",
    "        parrafos.remove('')    \n",
    "    \n",
    "    parrafoseleccionado=parrafos[numerodeparrafo]\n",
    "     \n",
    "    #acordaos de cerrar el fichero si no lo habéis abierto con un with\n",
    "    fichero.close()    \n",
    "    return(parrafoseleccionado)\n",
    "parrafo(8)\n"
   ]
  }
 ],
 "metadata": {
  "kernelspec": {
   "display_name": "Python 3",
   "language": "python",
   "name": "python3"
  },
  "language_info": {
   "codemirror_mode": {
    "name": "ipython",
    "version": 3
   },
   "file_extension": ".py",
   "mimetype": "text/x-python",
   "name": "python",
   "nbconvert_exporter": "python",
   "pygments_lexer": "ipython3",
   "version": "3.7.4"
  }
 },
 "nbformat": 4,
 "nbformat_minor": 2
}
