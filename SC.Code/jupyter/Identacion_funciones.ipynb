{
 "cells": [
  {
   "cell_type": "markdown",
   "metadata": {
    "colab_type": "text",
    "id": "Tw5PTkkgwf_U"
   },
   "source": [
    "# Identación"
   ]
  },
  {
   "cell_type": "code",
   "execution_count": 5,
   "metadata": {
    "colab": {},
    "colab_type": "code",
    "id": "-wik_xRnwV4U"
   },
   "outputs": [
    {
     "name": "stdout",
     "output_type": "stream",
     "text": [
      "eso es todo\n"
     ]
    }
   ],
   "source": [
    "edad = 10\n",
    "if edad > 18:\n",
    "  print('puede beber en España')\n",
    "print ('eso es todo')"
   ]
  },
  {
   "cell_type": "code",
   "execution_count": 4,
   "metadata": {
    "colab": {},
    "colab_type": "code",
    "id": "xAu6YZVewfL1"
   },
   "outputs": [
    {
     "name": "stdout",
     "output_type": "stream",
     "text": [
      "eso es todo\n"
     ]
    }
   ],
   "source": [
    "edad = 10\n",
    "if edad > 18:\n",
    "  print('puede beber en España')\n",
    "  if edad > 67:\n",
    "    print('y además estará jubilado')\n",
    "print ('eso es todo')"
   ]
  },
  {
   "cell_type": "code",
   "execution_count": 3,
   "metadata": {
    "colab": {},
    "colab_type": "code",
    "id": "azSpObVm3EmT"
   },
   "outputs": [
    {
     "name": "stdout",
     "output_type": "stream",
     "text": [
      "aún no puede beber en España\n",
      "eso es todo\n"
     ]
    }
   ],
   "source": [
    "edad = 15\n",
    "if edad > 18:\n",
    "  print('puede beber en España')\n",
    "else:\n",
    "  print('aún no puede beber en España')\n",
    "print('eso es todo')"
   ]
  },
  {
   "cell_type": "code",
   "execution_count": 11,
   "metadata": {
    "colab": {},
    "colab_type": "code",
    "id": "azSpObVm3EmT"
   },
   "outputs": [
    {
     "name": "stdout",
     "output_type": "stream",
     "text": [
      "puede conducir en España \n",
      "eso es todo\n"
     ]
    }
   ],
   "source": [
    "edad = 17\n",
    "if edad > 18:\n",
    "  print('puede beber en España')\n",
    "elif edad >= 16:\n",
    "  print('puede conducir en España ')\n",
    "else:\n",
    "    print('aún no puede ni beber ni conducir')    \n",
    "print('eso es todo')"
   ]
  },
  {
   "cell_type": "code",
   "execution_count": 13,
   "metadata": {
    "colab": {},
    "colab_type": "code",
    "id": "azSpObVm3EmT"
   },
   "outputs": [
    {
     "name": "stdout",
     "output_type": "stream",
     "text": [
      "puede conducir en España\n",
      "eso es todo\n"
     ]
    }
   ],
   "source": [
    "edad = 19\n",
    "if edad >= 16:\n",
    "  print('puede conducir en España')\n",
    "elif edad > 18:\n",
    "  print('puede beber en España ')\n",
    "else:\n",
    "    print('aún no puede ni beber ni conducir')    \n",
    "print('eso es todo')"
   ]
  },
  {
   "cell_type": "markdown",
   "metadata": {
    "colab_type": "text",
    "id": "xaI9sC3Kw8xx"
   },
   "source": [
    "Ejemplo con bloque for"
   ]
  },
  {
   "cell_type": "code",
   "execution_count": 2,
   "metadata": {
    "colab": {},
    "colab_type": "code",
    "id": "E39JUSfHw_Ew"
   },
   "outputs": [
    {
     "name": "stdout",
     "output_type": "stream",
     "text": [
      "comienza el bloque\n",
      "manzana\n",
      "pera\n",
      "platano\n",
      "finaliza el bloque\n"
     ]
    }
   ],
   "source": [
    "frutas = ['manzana', 'pera', 'platano']\n",
    "\n",
    "print('comienza el bloque')\n",
    "for fruta in frutas:\n",
    "  print(fruta)\n",
    "print('finaliza el bloque')"
   ]
  },
  {
   "cell_type": "markdown",
   "metadata": {
    "colab_type": "text",
    "id": "jVNpeIp43sWL"
   },
   "source": [
    "# Funciones"
   ]
  },
  {
   "cell_type": "code",
   "execution_count": 1,
   "metadata": {
    "colab": {},
    "colab_type": "code",
    "id": "S_23TZvt3uzw"
   },
   "outputs": [
    {
     "name": "stdout",
     "output_type": "stream",
     "text": [
      "8\n"
     ]
    }
   ],
   "source": [
    "def funcionSuma():\n",
    "  a = 5\n",
    "  b = 3\n",
    "  print (a+b)\n",
    "\n",
    "funcionSuma()"
   ]
  }
 ],
 "metadata": {
  "colab": {
   "name": "pythonUPVX19.ipynb",
   "provenance": []
  },
  "kernelspec": {
   "display_name": "Python 3",
   "language": "python",
   "name": "python3"
  },
  "language_info": {
   "codemirror_mode": {
    "name": "ipython",
    "version": 3
   },
   "file_extension": ".py",
   "mimetype": "text/x-python",
   "name": "python",
   "nbconvert_exporter": "python",
   "pygments_lexer": "ipython3",
   "version": "3.7.4"
  }
 },
 "nbformat": 4,
 "nbformat_minor": 1
}
