{
 "cells": [
  {
   "cell_type": "markdown",
   "metadata": {
    "collapsed": true
   },
   "source": [
    "# Regresión Polinomial"
   ]
  },
  {
   "cell_type": "markdown",
   "metadata": {},
   "source": [
    "<p style='text-align: justify;'>A pesar de que los modelos lineales son muy fáciles de interpretar, pueden llegar a presentar limitaciones en la predicción de los valores esperados en la variable dependiente, esto es consecuencia de que suponer un modelo lineal para la relación entre variables puede llegar a ser una aproximación muy simple.</p>\n",
    "<p style='text-align: justify;'>La regresión polinomial es un método que permite disminuir la condición de linealidad manteniendo al mismo tiempo una interpretabilidad alta. Este modelo añade curvatura al elevar la variable _x_ a diferentes potencias. De esta manera, se pueden conseguir diferentes funciones que representan y se ajustan más a la distribución de los datos.</p>"
   ]
  },
  {
   "cell_type": "markdown",
   "metadata": {},
   "source": [
    "### Ejemplo de regresión polinomial\n",
    "<p style='text-align: justify;'>En nuestro siguiente ejemplo se presentan siete puntos diferentes graficados en un plano cartesiano de dos dimensiones. Si se cuenta con bases de matemáticas o de geometría analítica al momento de observar los puntos en la gráfica es posible identificar inmediatamente que existe una tendencia en el comportamiento de los puntos muy parecida a la forma de una parábola.</p>\n",
    "<center><img src=\"img/RegPol_Datos.png\" width = \"100%\"></center>\n",
    "<p style='text-align: justify;'>En nuestro ejemplo encontraremos la ecuación cuadrática correspondiente a la regresión polinomial de segundo grado que se aproxime al comportamiento de los puntos graficados.</p>"
   ]
  },
  {
   "cell_type": "markdown",
   "metadata": {},
   "source": [
    "<p style='text-align: justify;'>El procedimiento para generar la regresión cuadrática utilizando la técnica de ajuste de mínimos cuadrados inicia construyendo un sistema de ecuaciones que son producto de analizar la suma de los cuadrados de los residuos (ecuación siguiente).</p> \n",
    "<br>\n",
    "$$s_r=\\sum_{i=1}^n (y_i-a_0-a_1x_i-a_2x_i^2)^2$$\n",
    "<p style='text-align: justify;'>Utilizando el concepto de derivadas parciales en conjunto con algebra es posible encontrar las constantes que acompañaran a las tres variables $a_{0}$, $a_{1}$ y $a_{2}$ en el sistema de ecuaciones algebraicas tres por tres. Pero no te preocupes nuestro curso no es un curso de matemáticas, para este ejemplo hemos simplificado las ecuaciones de una manera sencilla y comprensiva, tal como se muestra en el recuadro amarillo a continuación.</p>\n",
    "<center><img src=\"img/RegPol_Formulas.png\" width = \"80%\"></center>"
   ]
  },
  {
   "cell_type": "markdown",
   "metadata": {},
   "source": [
    "<p style='text-align: justify;'>En las ecuaciones del recuadro amarillo se involucran múltiples sumatorias que pueden hacer que estas ecuaciones se vean impactantes o complejas, pero con la finalidad de que este ejemplo sea más sencillo de entender, aún para las personas que no cuentan con tantas bases de matemáticas, realizamos cada una de las sumatorias de forma independiente en la siguiente tabla.</p> \n",
    "<br>\n",
    "<center><img src=\"img/RegPol_Calculos1.png\" width = \"80%\"></center>\n",
    "<p style='text-align: justify;'>Al sustituir los valores obtenidos en cada una de las sumatorias en las ecuaciones del recuadro amarillo, se obtiene un sistema de ecuaciones algebraicas que se pueden resolver por múltiples métodos con lo que se obtienen los valores de cada una de las tres variables, como se muestra en la siguiente tabla.</p> \n",
    "<br>\n",
    "<center><img src=\"img/RegPol_Calculos2.png\" width = \"70%\"></center>"
   ]
  },
  {
   "cell_type": "markdown",
   "metadata": {},
   "source": [
    "<p style='text-align: justify;'>Asignándole múltiples valores de la variable \"<i>x</i>\" a nuestra ecuación de la regresión cuadratica, es posible construir una tabla y una parabola que se comporta de manera similar a los puntos con los que iniciamos. En la siguiente figura se observan la tabla y la gráfica correspondientes a la ecuación: </p>\n",
    "<br>\n",
    "$$y=1.107x^2+x+0.571$$\n",
    "<br>\n",
    "<center><img src=\"img/RegPol_Predic.png\" width = \"100%\"></center>"
   ]
  },
  {
   "cell_type": "markdown",
   "metadata": {},
   "source": [
    "<p style='text-align: justify;'>Al momento de juntar la gráfica de los valores originales con la gráfica de nuestra parábola construida utilizando la ecuación de la regresión cuadrática, es posible observar que la ecuación que encontramos tiene un comportamiento similar a los puntos originales, pero no abarca en su totalidad a los puntos. Los modelos de regresión solamente se aproximan a los datos, generando ecuaciones que nos permiten predecir qué valor de la variable dependiente <i>y</i> se obtendrá incluso para valores de <i>x</i> que nunca antes se han presentado.</p>\n",
    "<center><img src=\"img/RegPol_Compara.png\" width = \"70%\"></center>"
   ]
  },
  {
   "cell_type": "code",
   "execution_count": 12,
   "metadata": {},
   "outputs": [
    {
     "data": {
      "text/html": [
       "<div>\n",
       "<style scoped>\n",
       "    .dataframe tbody tr th:only-of-type {\n",
       "        vertical-align: middle;\n",
       "    }\n",
       "\n",
       "    .dataframe tbody tr th {\n",
       "        vertical-align: top;\n",
       "    }\n",
       "\n",
       "    .dataframe thead th {\n",
       "        text-align: right;\n",
       "    }\n",
       "</style>\n",
       "<table border=\"1\" class=\"dataframe\">\n",
       "  <thead>\n",
       "    <tr style=\"text-align: right;\">\n",
       "      <th></th>\n",
       "      <th>CRIM</th>\n",
       "      <th>ZN</th>\n",
       "      <th>INDUS</th>\n",
       "      <th>CHAS</th>\n",
       "      <th>NOX</th>\n",
       "      <th>RM</th>\n",
       "      <th>AGE</th>\n",
       "      <th>DIS</th>\n",
       "      <th>RAD</th>\n",
       "      <th>TAX</th>\n",
       "      <th>PTRATIO</th>\n",
       "      <th>B</th>\n",
       "      <th>LSTAT</th>\n",
       "      <th>MEDV</th>\n",
       "    </tr>\n",
       "  </thead>\n",
       "  <tbody>\n",
       "    <tr>\n",
       "      <th>0</th>\n",
       "      <td>0.00632</td>\n",
       "      <td>18.0</td>\n",
       "      <td>2.31</td>\n",
       "      <td>0.0</td>\n",
       "      <td>0.538</td>\n",
       "      <td>6.575</td>\n",
       "      <td>65.2</td>\n",
       "      <td>4.0900</td>\n",
       "      <td>1.0</td>\n",
       "      <td>296.0</td>\n",
       "      <td>15.3</td>\n",
       "      <td>396.90</td>\n",
       "      <td>4.98</td>\n",
       "      <td>24.0</td>\n",
       "    </tr>\n",
       "    <tr>\n",
       "      <th>1</th>\n",
       "      <td>0.02731</td>\n",
       "      <td>0.0</td>\n",
       "      <td>7.07</td>\n",
       "      <td>0.0</td>\n",
       "      <td>0.469</td>\n",
       "      <td>6.421</td>\n",
       "      <td>78.9</td>\n",
       "      <td>4.9671</td>\n",
       "      <td>2.0</td>\n",
       "      <td>242.0</td>\n",
       "      <td>17.8</td>\n",
       "      <td>396.90</td>\n",
       "      <td>9.14</td>\n",
       "      <td>21.6</td>\n",
       "    </tr>\n",
       "    <tr>\n",
       "      <th>2</th>\n",
       "      <td>0.02729</td>\n",
       "      <td>0.0</td>\n",
       "      <td>7.07</td>\n",
       "      <td>0.0</td>\n",
       "      <td>0.469</td>\n",
       "      <td>7.185</td>\n",
       "      <td>61.1</td>\n",
       "      <td>4.9671</td>\n",
       "      <td>2.0</td>\n",
       "      <td>242.0</td>\n",
       "      <td>17.8</td>\n",
       "      <td>392.83</td>\n",
       "      <td>4.03</td>\n",
       "      <td>34.7</td>\n",
       "    </tr>\n",
       "    <tr>\n",
       "      <th>3</th>\n",
       "      <td>0.03237</td>\n",
       "      <td>0.0</td>\n",
       "      <td>2.18</td>\n",
       "      <td>0.0</td>\n",
       "      <td>0.458</td>\n",
       "      <td>6.998</td>\n",
       "      <td>45.8</td>\n",
       "      <td>6.0622</td>\n",
       "      <td>3.0</td>\n",
       "      <td>222.0</td>\n",
       "      <td>18.7</td>\n",
       "      <td>394.63</td>\n",
       "      <td>2.94</td>\n",
       "      <td>33.4</td>\n",
       "    </tr>\n",
       "    <tr>\n",
       "      <th>4</th>\n",
       "      <td>0.06905</td>\n",
       "      <td>0.0</td>\n",
       "      <td>2.18</td>\n",
       "      <td>0.0</td>\n",
       "      <td>0.458</td>\n",
       "      <td>7.147</td>\n",
       "      <td>54.2</td>\n",
       "      <td>6.0622</td>\n",
       "      <td>3.0</td>\n",
       "      <td>222.0</td>\n",
       "      <td>18.7</td>\n",
       "      <td>396.90</td>\n",
       "      <td>5.33</td>\n",
       "      <td>36.2</td>\n",
       "    </tr>\n",
       "  </tbody>\n",
       "</table>\n",
       "</div>"
      ],
      "text/plain": [
       "      CRIM    ZN  INDUS  CHAS    NOX     RM   AGE     DIS  RAD    TAX  \\\n",
       "0  0.00632  18.0   2.31   0.0  0.538  6.575  65.2  4.0900  1.0  296.0   \n",
       "1  0.02731   0.0   7.07   0.0  0.469  6.421  78.9  4.9671  2.0  242.0   \n",
       "2  0.02729   0.0   7.07   0.0  0.469  7.185  61.1  4.9671  2.0  242.0   \n",
       "3  0.03237   0.0   2.18   0.0  0.458  6.998  45.8  6.0622  3.0  222.0   \n",
       "4  0.06905   0.0   2.18   0.0  0.458  7.147  54.2  6.0622  3.0  222.0   \n",
       "\n",
       "   PTRATIO       B  LSTAT  MEDV  \n",
       "0     15.3  396.90   4.98  24.0  \n",
       "1     17.8  396.90   9.14  21.6  \n",
       "2     17.8  392.83   4.03  34.7  \n",
       "3     18.7  394.63   2.94  33.4  \n",
       "4     18.7  396.90   5.33  36.2  "
      ]
     },
     "execution_count": 12,
     "metadata": {},
     "output_type": "execute_result"
    }
   ],
   "source": [
    "from sklearn.datasets import load_boston\n",
    "\n",
    "# Cargamos un conjunto de datos\n",
    "boston_dataset = load_boston()\n",
    "# Se carga con pandas para tratamiento posterior\n",
    "import pandas as pd\n",
    "df = pd.DataFrame(boston_dataset.data,columns=boston_dataset.feature_names)\n",
    "# Agregamos la variable de respuesta\n",
    "df['MEDV'] = boston_dataset.target[df.index]\n",
    "df.head()"
   ]
  },
  {
   "cell_type": "code",
   "execution_count": 13,
   "metadata": {},
   "outputs": [
    {
     "data": {
      "text/plain": [
       "LSTAT     -0.737663\n",
       "PTRATIO   -0.507787\n",
       "INDUS     -0.483725\n",
       "TAX       -0.468536\n",
       "NOX       -0.427321\n",
       "CRIM      -0.388305\n",
       "RAD       -0.381626\n",
       "AGE       -0.376955\n",
       "CHAS       0.175260\n",
       "DIS        0.249929\n",
       "B          0.333461\n",
       "ZN         0.360445\n",
       "RM         0.695360\n",
       "MEDV       1.000000\n",
       "Name: MEDV, dtype: float64"
      ]
     },
     "execution_count": 13,
     "metadata": {},
     "output_type": "execute_result"
    }
   ],
   "source": [
    "df.corr()[\"MEDV\"].sort_values()"
   ]
  },
  {
   "cell_type": "code",
   "execution_count": 14,
   "metadata": {},
   "outputs": [],
   "source": [
    "## Regresión con una variable"
   ]
  },
  {
   "cell_type": "code",
   "execution_count": 15,
   "metadata": {},
   "outputs": [],
   "source": [
    "# Preparamos datos\n",
    "X = df[\"LSTAT\"].values.reshape(-1, 1)\n",
    "y = df[\"MEDV\"].values.reshape(-1, 1)"
   ]
  },
  {
   "cell_type": "code",
   "execution_count": 22,
   "metadata": {},
   "outputs": [],
   "source": [
    "# Creamos un split de datos\n",
    "from sklearn.model_selection import train_test_split\n",
    "X_train, X_test, y_train, y_test = train_test_split(\n",
    "    X, y, test_size=0.33, random_state=100)"
   ]
  },
  {
   "cell_type": "code",
   "execution_count": 28,
   "metadata": {},
   "outputs": [],
   "source": [
    "from sklearn.linear_model import LinearRegression\n",
    "from sklearn.preprocessing import PolynomialFeatures\n",
    "# Utilizamos la libreria PolynomialFeatures\n",
    "poly = PolynomialFeatures(degree=3)"
   ]
  },
  {
   "cell_type": "code",
   "execution_count": 29,
   "metadata": {},
   "outputs": [],
   "source": [
    "X_train_poly = poly.fit_transform(X_train)\n",
    "X_test_poly = poly.fit_transform(X_test)\n",
    "# Creando el modelo y entrenando\n",
    "reg = LinearRegression().fit(X_train_poly,y_train)\n",
    "# Prediciendo valores de entrenamiento\n",
    "y_train_hat = reg.predict(X_train_poly)\n",
    "# Prediciendo valores de validación\n",
    "y_test_hat = reg.predict(X_test_poly)"
   ]
  },
  {
   "cell_type": "code",
   "execution_count": 30,
   "metadata": {},
   "outputs": [
    {
     "data": {
      "text/plain": [
       "[<matplotlib.lines.Line2D at 0x7fe0d341deb0>]"
      ]
     },
     "execution_count": 30,
     "metadata": {},
     "output_type": "execute_result"
    },
    {
     "data": {
      "image/png": "[encoded data removed]",
      "text/plain": [
       "<Figure size 432x288 with 1 Axes>"
      ]
     },
     "metadata": {
      "needs_background": "light"
     },
     "output_type": "display_data"
    }
   ],
   "source": [
    "import matplotlib.pyplot as plt\n",
    "import numpy as np\n",
    "# Le decimos a jupyter que grafique en  el cuaderno\n",
    "%matplotlib inline\n",
    "# Creamos un scatter plot con los datos de entrenamiento\n",
    "plt.scatter(X_train, y_train)\n",
    "# Creamos un scatter plot con los datos de validación\n",
    "plt.scatter(X_test, y_test)\n",
    "# En X_plot guardamos valores distribuidos entre 0 y 40\n",
    "X_plot = np.linspace(0,40).reshape(-1, 1)\n",
    "# Con el modelo predecimos X_plot\n",
    "X_plot_poly = poly.fit_transform(X_plot)\n",
    "y_plot = reg.predict(X_plot_poly)\n",
    "# Graficamos el modelo\n",
    "plt.plot(X_plot, y_plot,\"r--\")"
   ]
  },
  {
   "cell_type": "code",
   "execution_count": 31,
   "metadata": {},
   "outputs": [
    {
     "name": "stdout",
     "output_type": "stream",
     "text": [
      "Entrenamiento 0.682052397497773\n",
      "Prueba 0.6150559372890204\n"
     ]
    }
   ],
   "source": [
    "from sklearn.metrics import r2_score\n",
    "# Calculamos el error\n",
    "print(\"Entrenamiento\", r2_score(y_train, y_train_hat))\n",
    "print(\"Prueba\", r2_score(y_test, y_test_hat))"
   ]
  },
  {
   "cell_type": "code",
   "execution_count": 32,
   "metadata": {},
   "outputs": [
    {
     "name": "stdout",
     "output_type": "stream",
     "text": [
      "Entrenamiento 0.6607355856920534\n",
      "Prueba 0.6057480327377572\n"
     ]
    }
   ],
   "source": [
    "# Preparación de datos iniciales\n",
    "X = df[[\"LSTAT\"]]\n",
    "y = df[\"MEDV\"].values.reshape(-1, 1)\n",
    "\n",
    "# Hacemos un split de 33%\n",
    "X_train, X_test, y_train, y_test = train_test_split(X, y, test_size=0.33, random_state=100)\n",
    "\n",
    "# Se procesan los polinomios\n",
    "poly = PolynomialFeatures(degree=2)\n",
    "X_train_poly = poly.fit_transform(X_train)\n",
    "X_test_poly = poly.fit_transform(X_test)\n",
    "\n",
    "# Se entrena el modelo\n",
    "reg = LinearRegression().fit(X_train_poly,y_train)\n",
    "\n",
    "# Prediciendo valores de entrenamiento\n",
    "y_train_hat = reg.predict(X_train_poly)\n",
    "# Prediciendo valores de validación\n",
    "y_test_hat = reg.predict(X_test_poly)\n",
    "\n",
    "# Calculamos el error\n",
    "print(\"Entrenamiento\", r2_score(y_train, y_train_hat))\n",
    "print(\"Prueba\", r2_score(y_test, y_test_hat))"
   ]
  },
  {
   "cell_type": "code",
   "execution_count": null,
   "metadata": {},
   "outputs": [],
   "source": []
  },
  {
   "cell_type": "code",
   "execution_count": null,
   "metadata": {},
   "outputs": [],
   "source": []
  }
 ],
 "metadata": {
  "kernelspec": {
   "display_name": "Python 3",
   "language": "python",
   "name": "python3"
  },
  "language_info": {
   "codemirror_mode": {
    "name": "ipython",
    "version": 3
   },
   "file_extension": ".py",
   "mimetype": "text/x-python",
   "name": "python",
   "nbconvert_exporter": "python",
   "pygments_lexer": "ipython3",
   "version": "3.8.3"
  }
 },
 "nbformat": 4,
 "nbformat_minor": 2
}
