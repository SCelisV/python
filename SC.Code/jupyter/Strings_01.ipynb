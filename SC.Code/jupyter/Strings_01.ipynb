{
 "cells": [
  {
   "cell_type": "markdown",
   "metadata": {
    "colab_type": "text",
    "id": "C3KVf_79OviL"
   },
   "source": [
    "# Strings - STR"
   ]
  },
  {
   "cell_type": "code",
   "execution_count": 1,
   "metadata": {
    "colab": {},
    "colab_type": "code",
    "id": "MD0r4YrVOs6_"
   },
   "outputs": [],
   "source": [
    "string_01 = \"este es un texto\""
   ]
  },
  {
   "cell_type": "code",
   "execution_count": 2,
   "metadata": {
    "colab": {},
    "colab_type": "code",
    "id": "zHKE26_S8MDj"
   },
   "outputs": [],
   "source": [
    "string = string_01 + ' que ahora voy a encadenar'"
   ]
  },
  {
   "cell_type": "code",
   "execution_count": 3,
   "metadata": {
    "colab": {},
    "colab_type": "code",
    "id": "QB5sEfah8S7b"
   },
   "outputs": [
    {
     "name": "stdout",
     "output_type": "stream",
     "text": [
      "este es un texto que ahora voy a encadenar\n"
     ]
    }
   ],
   "source": [
    "print(string) # cadena concatenada"
   ]
  },
  {
   "cell_type": "markdown",
   "metadata": {
    "colab_type": "text",
    "id": "KLz9x23s8lDz"
   },
   "source": [
    "#  \\ para separar las líneas"
   ]
  },
  {
   "cell_type": "code",
   "execution_count": 4,
   "metadata": {
    "colab": {},
    "colab_type": "code",
    "id": "O_6YR74T8ppZ"
   },
   "outputs": [],
   "source": [
    "string_03 = \"Esto es un sTring en la línea 01 \"\\\n",
    "            \"Esto es un sTring en la línea 02 \"\\\n",
    "            \"Esto es un sTring en la línea 03.\""
   ]
  },
  {
   "cell_type": "code",
   "execution_count": 5,
   "metadata": {
    "colab": {},
    "colab_type": "code",
    "id": "Uz9Ajtyo9oTr"
   },
   "outputs": [
    {
     "name": "stdout",
     "output_type": "stream",
     "text": [
      "Esto es un sTring en la línea 01 Esto es un sTring en la línea 02 Esto es un sTring en la línea 03.\n"
     ]
    }
   ],
   "source": [
    "print(string_03)"
   ]
  },
  {
   "cell_type": "code",
   "execution_count": 6,
   "metadata": {
    "colab": {},
    "colab_type": "code",
    "id": "O_6YR74T8ppZ"
   },
   "outputs": [],
   "source": [
    "string_04 = \"Esto es un sTring en la línea 01 \\n\"\\\n",
    "            \"Esto es un sTring en la línea 02 \\n\"\\\n",
    "            \"Esto es un sTring en la línea 03.\\n\""
   ]
  },
  {
   "cell_type": "code",
   "execution_count": 7,
   "metadata": {
    "colab": {},
    "colab_type": "code",
    "id": "9OngFT76-jfB"
   },
   "outputs": [
    {
     "name": "stdout",
     "output_type": "stream",
     "text": [
      "Esto es un sTring en la línea 01 \n",
      "Esto es un sTring en la línea 02 \n",
      "Esto es un sTring en la línea 03.\n",
      "\n"
     ]
    }
   ],
   "source": [
    "print(string_04)"
   ]
  },
  {
   "cell_type": "code",
   "execution_count": 8,
   "metadata": {
    "colab": {},
    "colab_type": "code",
    "id": "O_6YR74T8ppZ"
   },
   "outputs": [],
   "source": [
    "#Uso de las tres comillas - Todo lo que se ponga dentro de las ''' se imprime '''\n",
    "string_05 = '''Esto es un sTring en la línea 01 \\\n",
    "            Esto es un sTring en la línea 02 \\n\n",
    "            \"Esto es un sTring en la línea 03.'''"
   ]
  },
  {
   "cell_type": "code",
   "execution_count": 9,
   "metadata": {
    "colab": {},
    "colab_type": "code",
    "id": "Uz9Ajtyo9oTr"
   },
   "outputs": [
    {
     "name": "stdout",
     "output_type": "stream",
     "text": [
      "Esto es un sTring en la línea 01             Esto es un sTring en la línea 02 \n",
      "\n",
      "            \"Esto es un sTring en la línea 03.\n"
     ]
    }
   ],
   "source": [
    "print(string_05)"
   ]
  },
  {
   "cell_type": "code",
   "execution_count": 10,
   "metadata": {
    "colab": {},
    "colab_type": "code",
    "id": "O_6YR74T8ppZ"
   },
   "outputs": [],
   "source": [
    "#Uso de las tres comillas - Todo lo que se ponga dentro de las \"\"\" se imprime \"\"\"\n",
    "string_06 = \"\"\"Esto es un sTring en la línea 01 \" Esto esta en la misma línea 01\"\n",
    "            \"Esto es un sTring en la línea 02 \"\"\""
   ]
  },
  {
   "cell_type": "code",
   "execution_count": 11,
   "metadata": {
    "colab": {},
    "colab_type": "code",
    "id": "Uz9Ajtyo9oTr"
   },
   "outputs": [
    {
     "name": "stdout",
     "output_type": "stream",
     "text": [
      "Esto es un sTring en la línea 01 \" Esto esta en la misma línea 01\"\n",
      "            \"Esto es un sTring en la línea 02 \n"
     ]
    }
   ],
   "source": [
    "print(string_06)"
   ]
  }
 ],
 "metadata": {
  "colab": {
   "collapsed_sections": [],
   "name": "pythonUPVX33.ipynb",
   "provenance": []
  },
  "kernelspec": {
   "display_name": "Python 3",
   "language": "python",
   "name": "python3"
  },
  "language_info": {
   "codemirror_mode": {
    "name": "ipython",
    "version": 3
   },
   "file_extension": ".py",
   "mimetype": "text/x-python",
   "name": "python",
   "nbconvert_exporter": "python",
   "pygments_lexer": "ipython3",
   "version": "3.7.4"
  }
 },
 "nbformat": 4,
 "nbformat_minor": 1
}
