{
 "cells": [
  {
   "cell_type": "markdown",
   "metadata": {
    "colab_type": "text",
    "id": "CDndDjyAB7iL"
   },
   "source": [
    "# Strings - STR"
   ]
  },
  {
   "cell_type": "code",
   "execution_count": 11,
   "metadata": {
    "colab": {},
    "colab_type": "code",
    "id": "ZLaA3D-r_My7"
   },
   "outputs": [],
   "source": [
    "string = \"Este es un string, que esta dentro de un mismo sTring ...!\""
   ]
  },
  {
   "cell_type": "code",
   "execution_count": 12,
   "metadata": {
    "colab": {},
    "colab_type": "code",
    "id": "kJ_VynjYCdUA"
   },
   "outputs": [
    {
     "data": {
      "text/plain": [
       "58"
      ]
     },
     "execution_count": 12,
     "metadata": {},
     "output_type": "execute_result"
    }
   ],
   "source": [
    "len(string)"
   ]
  },
  {
   "cell_type": "code",
   "execution_count": 13,
   "metadata": {
    "colab": {},
    "colab_type": "code",
    "id": "i_4Oi_ZHCuSg"
   },
   "outputs": [
    {
     "data": {
      "text/plain": [
       "'E'"
      ]
     },
     "execution_count": 13,
     "metadata": {},
     "output_type": "execute_result"
    }
   ],
   "source": [
    "string[0]"
   ]
  },
  {
   "cell_type": "code",
   "execution_count": 14,
   "metadata": {
    "colab": {},
    "colab_type": "code",
    "id": "zESSZv2_C7B9"
   },
   "outputs": [
    {
     "data": {
      "text/plain": [
       "'!'"
      ]
     },
     "execution_count": 14,
     "metadata": {},
     "output_type": "execute_result"
    }
   ],
   "source": [
    "string[len(string)-1]"
   ]
  },
  {
   "cell_type": "code",
   "execution_count": 17,
   "metadata": {
    "colab": {
     "base_uri": "https://localhost:8080/",
     "height": 34
    },
    "colab_type": "code",
    "executionInfo": {
     "elapsed": 775,
     "status": "ok",
     "timestamp": 1578485219245,
     "user": {
      "displayName": "Leo Salom",
      "photoUrl": "https://lh3.googleusercontent.com/a-/AAuE7mBWrU9A9PXLcaPaMIEPXT8vKmpShYH2PtLETEIgGQ=s64",
      "userId": "07470075073569383292"
     },
     "user_tz": -60
    },
    "id": "wfTiY95bDNk8",
    "outputId": "830a5744-4593-40c9-fbe1-4209640755d9"
   },
   "outputs": [
    {
     "data": {
      "text/plain": [
       "'Este es un'"
      ]
     },
     "execution_count": 17,
     "metadata": {},
     "output_type": "execute_result"
    }
   ],
   "source": [
    "string[0:10]"
   ]
  },
  {
   "cell_type": "code",
   "execution_count": 18,
   "metadata": {
    "colab": {},
    "colab_type": "code",
    "id": "cBO2h1kDDRgV"
   },
   "outputs": [
    {
     "data": {
      "text/plain": [
       "' string, q'"
      ]
     },
     "execution_count": 18,
     "metadata": {},
     "output_type": "execute_result"
    }
   ],
   "source": [
    "string[10:20]"
   ]
  },
  {
   "cell_type": "code",
   "execution_count": 19,
   "metadata": {
    "colab": {
     "base_uri": "https://localhost:8080/",
     "height": 34
    },
    "colab_type": "code",
    "executionInfo": {
     "elapsed": 779,
     "status": "ok",
     "timestamp": 1578485259760,
     "user": {
      "displayName": "Leo Salom",
      "photoUrl": "https://lh3.googleusercontent.com/a-/AAuE7mBWrU9A9PXLcaPaMIEPXT8vKmpShYH2PtLETEIgGQ=s64",
      "userId": "07470075073569383292"
     },
     "user_tz": -60
    },
    "id": "mKWHzK3IDXu9",
    "outputId": "d32efccc-59e6-450a-affc-f4d26ead3962"
   },
   "outputs": [
    {
     "data": {
      "text/plain": [
       "'Este es un string, q'"
      ]
     },
     "execution_count": 19,
     "metadata": {},
     "output_type": "execute_result"
    }
   ],
   "source": [
    "string[:20]"
   ]
  },
  {
   "cell_type": "code",
   "execution_count": 20,
   "metadata": {
    "colab": {
     "base_uri": "https://localhost:8080/",
     "height": 34
    },
    "colab_type": "code",
    "executionInfo": {
     "elapsed": 566,
     "status": "ok",
     "timestamp": 1578485273514,
     "user": {
      "displayName": "Leo Salom",
      "photoUrl": "https://lh3.googleusercontent.com/a-/AAuE7mBWrU9A9PXLcaPaMIEPXT8vKmpShYH2PtLETEIgGQ=s64",
      "userId": "07470075073569383292"
     },
     "user_tz": -60
    },
    "id": "bMD1-whWDaaE",
    "outputId": "b952a6f3-9b9d-4e1a-a091-7c126fe1280c"
   },
   "outputs": [
    {
     "data": {
      "text/plain": [
       "'ue esta dentro de un mismo sTring ...!'"
      ]
     },
     "execution_count": 20,
     "metadata": {},
     "output_type": "execute_result"
    }
   ],
   "source": [
    "string[20:]"
   ]
  },
  {
   "cell_type": "code",
   "execution_count": 21,
   "metadata": {
    "colab": {
     "base_uri": "https://localhost:8080/",
     "height": 34
    },
    "colab_type": "code",
    "executionInfo": {
     "elapsed": 591,
     "status": "ok",
     "timestamp": 1578485292339,
     "user": {
      "displayName": "Leo Salom",
      "photoUrl": "https://lh3.googleusercontent.com/a-/AAuE7mBWrU9A9PXLcaPaMIEPXT8vKmpShYH2PtLETEIgGQ=s64",
      "userId": "07470075073569383292"
     },
     "user_tz": -60
    },
    "id": "aQFQHsSeDfS9",
    "outputId": "90a4993d-a50d-4e54-f9f5-b785f0c44086"
   },
   "outputs": [
    {
     "data": {
      "text/plain": [
       "'Este es un string, que esta dentro de un mismo s'"
      ]
     },
     "execution_count": 21,
     "metadata": {},
     "output_type": "execute_result"
    }
   ],
   "source": [
    "string[:-10]"
   ]
  },
  {
   "cell_type": "code",
   "execution_count": 22,
   "metadata": {
    "colab": {
     "base_uri": "https://localhost:8080/",
     "height": 34
    },
    "colab_type": "code",
    "executionInfo": {
     "elapsed": 549,
     "status": "ok",
     "timestamp": 1578485313736,
     "user": {
      "displayName": "Leo Salom",
      "photoUrl": "https://lh3.googleusercontent.com/a-/AAuE7mBWrU9A9PXLcaPaMIEPXT8vKmpShYH2PtLETEIgGQ=s64",
      "userId": "07470075073569383292"
     },
     "user_tz": -60
    },
    "id": "pwRhXyTjDlmu",
    "outputId": "660b46c8-62b3-4315-a36d-44a4f7f23a35"
   },
   "outputs": [
    {
     "data": {
      "text/plain": [
       "'Tring ...!'"
      ]
     },
     "execution_count": 22,
     "metadata": {},
     "output_type": "execute_result"
    }
   ],
   "source": [
    "string[-10:]"
   ]
  }
 ],
 "metadata": {
  "colab": {
   "collapsed_sections": [],
   "name": "pythonUPVX34.ipynb",
   "provenance": []
  },
  "kernelspec": {
   "display_name": "Python 3",
   "language": "python",
   "name": "python3"
  },
  "language_info": {
   "codemirror_mode": {
    "name": "ipython",
    "version": 3
   },
   "file_extension": ".py",
   "mimetype": "text/x-python",
   "name": "python",
   "nbconvert_exporter": "python",
   "pygments_lexer": "ipython3",
   "version": "3.7.4"
  }
 },
 "nbformat": 4,
 "nbformat_minor": 1
}
