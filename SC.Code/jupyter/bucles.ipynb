{
 "cells": [
  {
   "cell_type": "markdown",
   "metadata": {
    "colab_type": "text",
    "id": "h7kk40ZwsiDk"
   },
   "source": [
    "#Flujo iterativo\n",
    "\n",
    "##WHILE\n",
    "<img src=\"https://i.imgur.com/6VtTTLW.png\" width=300>"
   ]
  },
  {
   "cell_type": "code",
   "execution_count": 1,
   "metadata": {
    "colab": {},
    "colab_type": "code",
    "id": "v7pTh8Zhso-4"
   },
   "outputs": [
    {
     "name": "stdout",
     "output_type": "stream",
     "text": [
      "10\n",
      "9\n",
      "8\n",
      "7\n",
      "6\n",
      "5\n",
      "4\n",
      "3\n",
      "2\n",
      "1\n",
      "siguiente instrucción\n"
     ]
    }
   ],
   "source": [
    "a=10\n",
    "while a>0:\n",
    "    print (a)\n",
    "    a= a-1\n",
    "print(\"siguiente instrucción\")"
   ]
  },
  {
   "cell_type": "code",
   "execution_count": 6,
   "metadata": {},
   "outputs": [
    {
     "name": "stdout",
     "output_type": "stream",
     "text": [
      "0\n",
      "1\n",
      "2\n",
      "3\n",
      "4\n",
      "5\n",
      "6\n",
      "7\n",
      "8\n",
      "9\n",
      "siguiente instrucción\n"
     ]
    }
   ],
   "source": [
    "a=0\n",
    "while a<10:\n",
    "    print (a)\n",
    "    a= a+1\n",
    "print(\"siguiente instrucción\")"
   ]
  },
  {
   "cell_type": "code",
   "execution_count": 7,
   "metadata": {},
   "outputs": [
    {
     "name": "stdout",
     "output_type": "stream",
     "text": [
      "0\n",
      "1\n",
      "2\n",
      "3\n",
      "4\n",
      "5\n",
      "6\n",
      "7\n",
      "8\n",
      "9\n",
      "siguiente instrucción\n"
     ]
    }
   ],
   "source": [
    "#simulación de un ciclo do-while en python\n",
    "\n",
    "a=0\n",
    "print (a)\n",
    "a= a+1\n",
    "while a<10:\n",
    "    print (a)\n",
    "    a= a+1\n",
    "print(\"siguiente instrucción\")"
   ]
  },
  {
   "cell_type": "code",
   "execution_count": null,
   "metadata": {},
   "outputs": [],
   "source": [
    "#simulación de un cliclo do-while en python\n",
    "e = input('Introduce el nombre de una estación '\n",
    "          'del año: ')\n",
    "r = e.lower() in ['primavera', 'verano', 'otoño',\n",
    "                  'invierno']\n",
    "if not r:\n",
    "    print('\"{0}\" no es el nombre de una estación '\n",
    "          'del año.'.format(e))\n",
    "    print('Por favor vuelve a intentar.')\n",
    "\n",
    "while not r:\n",
    "    e = input('Introduce el nombre de una estación '\n",
    "              'del año: ')\n",
    "    r = e.lower() in ['primavera', 'verano', 'otoño',\n",
    "                      'invierno']\n",
    "    if not r:\n",
    "        print('\"{0}\" no es el nombre de una estación '\n",
    "              'del año.'.format(e))\n",
    "        print('Por favor vuelve a intentar.')\n",
    "\n",
    "print(\"Muy bien.\")"
   ]
  },
  {
   "cell_type": "markdown",
   "metadata": {
    "colab_type": "text",
    "id": "uwptgqC8spt6"
   },
   "source": [
    "#### FOR\n",
    "<img src=\"https://i.imgur.com/ubcqWqy.png\" width=300>    "
   ]
  },
  {
   "cell_type": "code",
   "execution_count": 22,
   "metadata": {},
   "outputs": [
    {
     "data": {
      "text/plain": [
       "'patatas'"
      ]
     },
     "execution_count": 22,
     "metadata": {},
     "output_type": "execute_result"
    }
   ],
   "source": [
    "palabra=\"patatas\"\n",
    "palabra"
   ]
  },
  {
   "cell_type": "code",
   "execution_count": 8,
   "metadata": {
    "colab": {},
    "colab_type": "code",
    "id": "XcQKMkEgsOtf"
   },
   "outputs": [
    {
     "name": "stdout",
     "output_type": "stream",
     "text": [
      "p\n",
      "a\n",
      "t\n",
      "a\n",
      "t\n",
      "a\n",
      "s\n",
      "siguiente instrucción\n"
     ]
    }
   ],
   "source": [
    "#similar al for each de otros lenguajes\n",
    "for letra in palabra:\n",
    "    print(letra)\n",
    "print('siguiente instrucción')"
   ]
  },
  {
   "cell_type": "code",
   "execution_count": 20,
   "metadata": {},
   "outputs": [
    {
     "data": {
      "text/plain": [
       "range(0, 10)"
      ]
     },
     "execution_count": 20,
     "metadata": {},
     "output_type": "execute_result"
    }
   ],
   "source": [
    "numeros = range(10)\n",
    "numeros"
   ]
  },
  {
   "cell_type": "code",
   "execution_count": 21,
   "metadata": {
    "colab": {},
    "colab_type": "code",
    "id": "XcQKMkEgsOtf"
   },
   "outputs": [
    {
     "name": "stdout",
     "output_type": "stream",
     "text": [
      "0\n",
      "1\n",
      "2\n",
      "3\n",
      "4\n",
      "5\n",
      "6\n",
      "7\n",
      "8\n",
      "9\n",
      "siguiente instrucción\n"
     ]
    }
   ],
   "source": [
    "for numero in numeros:\n",
    "    print(numero)\n",
    "print('siguiente instrucción')"
   ]
  },
  {
   "cell_type": "markdown",
   "metadata": {
    "colab_type": "text",
    "id": "KUSG9YEHtD3-"
   },
   "source": [
    "##Funcion range"
   ]
  },
  {
   "cell_type": "code",
   "execution_count": 15,
   "metadata": {
    "colab": {},
    "colab_type": "code",
    "id": "JZ6Fgs_stDKu"
   },
   "outputs": [
    {
     "data": {
      "text/plain": [
       "range(0, 5)"
      ]
     },
     "execution_count": 15,
     "metadata": {},
     "output_type": "execute_result"
    }
   ],
   "source": [
    "range(5)"
   ]
  },
  {
   "cell_type": "code",
   "execution_count": 16,
   "metadata": {
    "colab": {},
    "colab_type": "code",
    "id": "iT8-ZvibtG_V"
   },
   "outputs": [
    {
     "data": {
      "text/plain": [
       "range(2, 7)"
      ]
     },
     "execution_count": 16,
     "metadata": {},
     "output_type": "execute_result"
    }
   ],
   "source": [
    "range(2,7)"
   ]
  },
  {
   "cell_type": "code",
   "execution_count": 28,
   "metadata": {},
   "outputs": [
    {
     "data": {
      "text/plain": [
       "[0, 1, 2, 3, 4]"
      ]
     },
     "execution_count": 28,
     "metadata": {},
     "output_type": "execute_result"
    }
   ],
   "source": [
    "llista = list(range(5))\n",
    "llista"
   ]
  },
  {
   "cell_type": "code",
   "execution_count": 30,
   "metadata": {},
   "outputs": [
    {
     "name": "stdout",
     "output_type": "stream",
     "text": [
      "position 0: 0\n",
      "position 1: 1\n",
      "position 2: 2\n",
      "position 3: 3\n",
      "position 4: 4\n"
     ]
    }
   ],
   "source": [
    "for i in llista:\n",
    "    print(f\"position {i}: {llista[i]}\")"
   ]
  },
  {
   "cell_type": "code",
   "execution_count": 43,
   "metadata": {},
   "outputs": [],
   "source": [
    "import string\n",
    "alphabet = string.ascii_letters\n",
    "numbers = string.digits"
   ]
  },
  {
   "cell_type": "code",
   "execution_count": 45,
   "metadata": {},
   "outputs": [
    {
     "data": {
      "text/plain": [
       "'abcdefghijklmnopqrstuvwxyzABCDEFGHIJKLMNOPQRSTUVWXYZ'"
      ]
     },
     "execution_count": 45,
     "metadata": {},
     "output_type": "execute_result"
    }
   ],
   "source": [
    "alphabet"
   ]
  },
  {
   "cell_type": "code",
   "execution_count": 46,
   "metadata": {},
   "outputs": [
    {
     "data": {
      "text/plain": [
       "'0123456789'"
      ]
     },
     "execution_count": 46,
     "metadata": {},
     "output_type": "execute_result"
    }
   ],
   "source": [
    "numbers"
   ]
  },
  {
   "cell_type": "code",
   "execution_count": 52,
   "metadata": {},
   "outputs": [
    {
     "name": "stdout",
     "output_type": "stream",
     "text": [
      "a \n",
      "b \n",
      "c \n",
      "d \n",
      "e \n",
      "f \n",
      "g \n",
      "h \n",
      "i \n",
      "j \n",
      "k \n",
      "l \n",
      "m \n",
      "n \n",
      "o \n",
      "p \n",
      "q \n",
      "r \n",
      "s \n",
      "t \n",
      "u \n",
      "v \n",
      "w \n",
      "x \n",
      "y \n",
      "z \n",
      "A \n",
      "B \n",
      "C \n",
      "D \n",
      "E \n",
      "F \n",
      "G \n",
      "H \n",
      "I \n",
      "J \n",
      "K \n",
      "L \n",
      "M \n",
      "N \n",
      "O \n",
      "P \n",
      "Q \n",
      "R \n",
      "S \n",
      "T \n",
      "U \n",
      "V \n",
      "W \n",
      "X \n",
      "Y \n",
      "Z \n"
     ]
    }
   ],
   "source": [
    "for i in alphabet:\n",
    "    print(f\"{i} \")    "
   ]
  },
  {
   "cell_type": "code",
   "execution_count": 59,
   "metadata": {},
   "outputs": [
    {
     "name": "stdout",
     "output_type": "stream",
     "text": [
      "0\n",
      "1\n",
      "2\n",
      "3\n",
      "4\n",
      "5\n",
      "6\n",
      "7\n",
      "8\n",
      "9\n"
     ]
    }
   ],
   "source": [
    "for i in numbers:\n",
    "    print(f\"{i}\")    "
   ]
  },
  {
   "cell_type": "code",
   "execution_count": 53,
   "metadata": {},
   "outputs": [
    {
     "data": {
      "text/plain": [
       "{}"
      ]
     },
     "execution_count": 53,
     "metadata": {},
     "output_type": "execute_result"
    }
   ],
   "source": [
    "# dictionary - diccionarios - json - key:value\n",
    "\n",
    "dNames= {'name':'Sonia'}\n",
    "dNames\n",
    "dNames = dict()\n",
    "dNames"
   ]
  },
  {
   "cell_type": "code",
   "execution_count": 17,
   "metadata": {
    "colab": {},
    "colab_type": "code",
    "id": "c8Vl6RExtLQm"
   },
   "outputs": [
    {
     "name": "stdout",
     "output_type": "stream",
     "text": [
      "p\n",
      "a\n",
      "t\n",
      "a\n",
      "t\n",
      "a\n",
      "s\n",
      "siguiente instrucción\n"
     ]
    }
   ],
   "source": [
    "a=\"patatas\"\n",
    "for i in range(0,len(a)):\n",
    "    print(a[i])\n",
    "print('siguiente instrucción')"
   ]
  },
  {
   "cell_type": "code",
   "execution_count": 55,
   "metadata": {
    "colab": {},
    "colab_type": "code",
    "id": "c8Vl6RExtLQm"
   },
   "outputs": [
    {
     "name": "stdout",
     "output_type": "stream",
     "text": [
      "i=> 0: p\n",
      "i=> 1: a\n",
      "i=> 2: t\n",
      "i=> 3: a\n",
      "i=> 4: t\n",
      "i=> 5: a\n",
      "i=> 6: s\n",
      "siguiente instrucción\n"
     ]
    }
   ],
   "source": [
    "a=\"patatas\"\n",
    "l=len(a)\n",
    "for i in range(0,l):\n",
    "    print(f\"i=> {i}: {a[i]}\")\n",
    "print('siguiente instrucción')"
   ]
  },
  {
   "cell_type": "markdown",
   "metadata": {
    "colab_type": "text",
    "id": "H0Ko2ak6tf_F"
   },
   "source": [
    "##Break\n",
    "\n",
    "Sirve para salirnos del buble antes de terminar la ejecución completa del mismo"
   ]
  },
  {
   "cell_type": "code",
   "execution_count": 25,
   "metadata": {
    "colab": {},
    "colab_type": "code",
    "id": "BgZWNeyXtn3W"
   },
   "outputs": [
    {
     "name": "stdout",
     "output_type": "stream",
     "text": [
      "p\n",
      "a\n",
      "t\n",
      "siguiente instrucción\n"
     ]
    }
   ],
   "source": [
    "palabra=\"patatas\"\n",
    "for letra in palabra:\n",
    "    print (letra)\n",
    "    if letra == 't':\n",
    "      break\n",
    "print('siguiente instrucción')"
   ]
  },
  {
   "cell_type": "markdown",
   "metadata": {
    "colab_type": "text",
    "id": "B21iNRHpt2KD"
   },
   "source": [
    "##Continue\n",
    "sirve para saltar a la siguiente iteración"
   ]
  },
  {
   "cell_type": "code",
   "execution_count": 26,
   "metadata": {
    "colab": {},
    "colab_type": "code",
    "id": "Sdc2IMm7t6aY"
   },
   "outputs": [
    {
     "name": "stdout",
     "output_type": "stream",
     "text": [
      "p\n",
      "t\n",
      "t\n",
      "s\n",
      "siguiente instrucción\n"
     ]
    }
   ],
   "source": [
    "a=\"patatas\"\n",
    "for letra in a:\n",
    "    if letra=='a':\n",
    "        continue    \n",
    "    print (letra)\n",
    "print('siguiente instrucción')"
   ]
  },
  {
   "cell_type": "markdown",
   "metadata": {
    "colab_type": "text",
    "id": "gKjm6z3ouBIE"
   },
   "source": [
    "# Bucles infinitos"
   ]
  },
  {
   "cell_type": "code",
   "execution_count": 27,
   "metadata": {
    "colab": {},
    "colab_type": "code",
    "id": "9q-kiiH8uDW8"
   },
   "outputs": [
    {
     "name": "stdout",
     "output_type": "stream",
     "text": [
      "socorro!\n",
      "fin\n"
     ]
    }
   ],
   "source": [
    "# -O-J-O- mientras no cambie el valor de la condición se ejecutará indefinidamente, \n",
    "\n",
    "while True:\n",
    "    print(\"socorro!\")\n",
    "    break\n",
    "print(\"fin\")"
   ]
  }
 ],
 "metadata": {
  "colab": {
   "collapsed_sections": [],
   "name": "pythonUPVX16.ipynb",
   "provenance": []
  },
  "kernelspec": {
   "display_name": "Python 3",
   "language": "python",
   "name": "python3"
  },
  "language_info": {
   "codemirror_mode": {
    "name": "ipython",
    "version": 3
   },
   "file_extension": ".py",
   "mimetype": "text/x-python",
   "name": "python",
   "nbconvert_exporter": "python",
   "pygments_lexer": "ipython3",
   "version": "3.7.4"
  }
 },
 "nbformat": 4,
 "nbformat_minor": 1
}
