{
 "cells": [
  {
   "cell_type": "markdown",
   "metadata": {
    "colab_type": "text",
    "id": "_4VzBeb-vfLy"
   },
   "source": [
    "**reinicia el kernel** (en la barra de menu, selecciona Kernel$\\rightarrow$Restart)"
   ]
  },
  {
   "cell_type": "markdown",
   "metadata": {
    "colab_type": "text",
    "id": "8zMJvL_6u6MD"
   },
   "source": [
    "## Bucles\n",
    "### contar elementos de una lista"
   ]
  },
  {
   "cell_type": "code",
   "execution_count": 1,
   "metadata": {
    "colab": {},
    "colab_type": "code",
    "id": "PctQfh-EWKBz"
   },
   "outputs": [
    {
     "name": "stdout",
     "output_type": "stream",
     "text": [
      "6\n"
     ]
    }
   ],
   "source": [
    "lista = [9,13,2,7,124,-5]\n",
    "print(len(lista))"
   ]
  },
  {
   "cell_type": "markdown",
   "metadata": {
    "colab_type": "text",
    "id": "m57w3NmVWiHX"
   },
   "source": [
    "sin usar la función len:"
   ]
  },
  {
   "cell_type": "code",
   "execution_count": 2,
   "metadata": {
    "colab": {},
    "colab_type": "code",
    "id": "pmHq2UMLufi6"
   },
   "outputs": [
    {
     "name": "stdout",
     "output_type": "stream",
     "text": [
      "el elemento que estamos añadiendo es 9 y ocupa la posición 1\n",
      "el elemento que estamos añadiendo es 13 y ocupa la posición 2\n",
      "el elemento que estamos añadiendo es 2 y ocupa la posición 3\n",
      "el elemento que estamos añadiendo es 7 y ocupa la posición 4\n",
      "el elemento que estamos añadiendo es 124 y ocupa la posición 5\n",
      "el elemento que estamos añadiendo es -5 y ocupa la posición 6\n",
      "total: 6\n"
     ]
    }
   ],
   "source": [
    "lista = [9,13,2,7,124,-5]\n",
    "tot = 0\n",
    "for i in lista:\n",
    "    tot = tot + 1\n",
    "    print(f\"el elemento que estamos añadiendo es {i} y ocupa la posición {tot}\")\n",
    "print (f'total: {tot}')"
   ]
  },
  {
   "cell_type": "code",
   "execution_count": 3,
   "metadata": {
    "colab_type": "text",
    "id": "IuySwY1Ov8j0"
   },
   "outputs": [
    {
     "name": "stdout",
     "output_type": "stream",
     "text": [
      "inicializamos la cuenta a:0\n",
      "el valor actual es:1\n",
      "el valor actual es:2\n",
      "el valor actual es:3\n",
      "el valor actual es:4\n",
      "el valor actual es:5\n",
      "el valor actual es:6\n",
      "el resultado final es:6\n"
     ]
    }
   ],
   "source": [
    "#Otra solución\n",
    "cuenta = 0\n",
    "print (f'inicializamos la cuenta a:{cuenta}')\n",
    "for elemento in lista:\n",
    "  cuenta = cuenta + 1\n",
    "  print(f'el valor actual es:{cuenta}')\n",
    "print(f'el resultado final es:{cuenta}')"
   ]
  },
  {
   "cell_type": "markdown",
   "metadata": {
    "colab_type": "text",
    "id": "rqwbO_m3Xb47"
   },
   "source": [
    "### suma los valores de los elementos"
   ]
  },
  {
   "cell_type": "code",
   "execution_count": 4,
   "metadata": {
    "colab": {},
    "colab_type": "code",
    "id": "omj2sWqWXfTx"
   },
   "outputs": [
    {
     "name": "stdout",
     "output_type": "stream",
     "text": [
      "150\n"
     ]
    }
   ],
   "source": [
    "lista = [9,13,2,7,124,-5]\n",
    "print(sum(lista))"
   ]
  },
  {
   "cell_type": "markdown",
   "metadata": {
    "colab_type": "text",
    "id": "dDewTegdXnf7"
   },
   "source": [
    "Sin utilizar la función sum?"
   ]
  },
  {
   "cell_type": "code",
   "execution_count": 5,
   "metadata": {
    "colab": {},
    "colab_type": "code",
    "id": "L4Hai_h0uK6M"
   },
   "outputs": [
    {
     "name": "stdout",
     "output_type": "stream",
     "text": [
      "vamos a adicionar el elemento: 9 y la suma parcial es: 9\n",
      "vamos a adicionar el elemento: 13 y la suma parcial es: 22\n",
      "vamos a adicionar el elemento: 2 y la suma parcial es: 24\n",
      "vamos a adicionar el elemento: 7 y la suma parcial es: 31\n",
      "vamos a adicionar el elemento: 124 y la suma parcial es: 155\n",
      "vamos a adicionar el elemento: -5 y la suma parcial es: 150\n",
      "La suma de los elementos es: 150\n"
     ]
    }
   ],
   "source": [
    "lista = [9,13,2,7,124,-5]\n",
    "tot = 0\n",
    "for i in lista:\n",
    "    tot = tot + i\n",
    "    print (f'vamos a adicionar el elemento: {i} y la suma parcial es: {tot}')\n",
    "print (f'La suma de los elementos es: {tot}')\n"
   ]
  },
  {
   "cell_type": "code",
   "execution_count": 6,
   "metadata": {
    "colab": {},
    "colab_type": "code",
    "id": "L4Hai_h0uK6M"
   },
   "outputs": [
    {
     "name": "stdout",
     "output_type": "stream",
     "text": [
      "vamos a adicionar el elemento: 9 y la suma parcial es: 9\n",
      "vamos a adicionar el elemento: 13 y la suma parcial es: 22\n",
      "vamos a adicionar el elemento: 2 y la suma parcial es: 24\n",
      "vamos a adicionar el elemento: 7 y la suma parcial es: 31\n",
      "vamos a adicionar el elemento: 124 y la suma parcial es: 155\n",
      "vamos a adicionar el elemento: 5 y la suma parcial es: 160\n",
      "La suma de los elementos positivos de la lista es es: 160\n"
     ]
    }
   ],
   "source": [
    "lista = [9,13,2,7,124,-5]\n",
    "tot = 0\n",
    "for i in lista:\n",
    "    tot = tot + abs(i)\n",
    "    print (f'vamos a adicionar el elemento: {abs(i)} y la suma parcial es: {tot}')\n",
    "print (f'La suma de los elementos positivos de la lista es es: {tot}')\n"
   ]
  },
  {
   "cell_type": "code",
   "execution_count": 7,
   "metadata": {},
   "outputs": [
    {
     "name": "stdout",
     "output_type": "stream",
     "text": [
      "la suma es: 4\n",
      "la suma es: 8\n",
      "la suma es: 10\n"
     ]
    }
   ],
   "source": [
    "# Suma los elementos pares de la lista\n",
    "lista = [4,1,4,2,3]\n",
    "suma = 0\n",
    "for elemento in lista:\n",
    "    if elemento % 2 == 0:\n",
    "        suma = suma + elemento\n",
    "        print(f\"la suma es: {suma}\")"
   ]
  },
  {
   "cell_type": "code",
   "execution_count": 8,
   "metadata": {},
   "outputs": [
    {
     "name": "stdout",
     "output_type": "stream",
     "text": [
      "la suma parcial es: 4\n",
      "la suma parcial es: 8\n",
      "la suma parcial es: 11\n",
      "la suma total es: 11\n"
     ]
    }
   ],
   "source": [
    "# Suma los elementos cuya posición en la lista es par (el primer elemento de una lista es 0)\n",
    "lista = [4,1,4,2,3]\n",
    "suma = 0\n",
    "cuenta = 0\n",
    "for elemento in lista:\n",
    "    if cuenta % 2 == 0:\n",
    "        suma = suma + elemento\n",
    "        print(f\"la suma parcial es: {suma}\")\n",
    "    cuenta = cuenta + 1\n",
    "print (f\"la suma total es: {suma}\")"
   ]
  },
  {
   "cell_type": "markdown",
   "metadata": {
    "colab_type": "text",
    "id": "LCSQwA64uRi5"
   },
   "source": [
    "### calcula la media de los valores de los elementos"
   ]
  },
  {
   "cell_type": "code",
   "execution_count": 9,
   "metadata": {
    "colab": {},
    "colab_type": "code",
    "id": "YqtvXn12udGZ"
   },
   "outputs": [
    {
     "name": "stdout",
     "output_type": "stream",
     "text": [
      "25.0\n"
     ]
    }
   ],
   "source": [
    "lista = [9,13,2,7,124,-5]\n",
    "print(sum(lista)/len(lista))"
   ]
  },
  {
   "cell_type": "markdown",
   "metadata": {
    "colab_type": "text",
    "id": "LU_9ciSUusLh"
   },
   "source": [
    "Sin utilizar sum ni len?"
   ]
  },
  {
   "cell_type": "code",
   "execution_count": 10,
   "metadata": {
    "colab": {},
    "colab_type": "code",
    "id": "M-CrxuCPu15Z"
   },
   "outputs": [
    {
     "name": "stdout",
     "output_type": "stream",
     "text": [
      "La media de los 6 elementos de la lista es: 25.0\n"
     ]
    }
   ],
   "source": [
    "lista = [9,13,2,7,124,-5]\n",
    "tot = 0\n",
    "count = 0\n",
    "for i in lista:\n",
    "    tot = tot + i\n",
    "    count = count + 1\n",
    "mean = tot / count\n",
    "print (f'La media de los {count} elementos de la lista es: {mean}')"
   ]
  },
  {
   "cell_type": "markdown",
   "metadata": {
    "colab_type": "text",
    "id": "J8rvWcfhvUaN"
   },
   "source": [
    "la media de los valores positivos de los elementos de la lista"
   ]
  },
  {
   "cell_type": "code",
   "execution_count": 11,
   "metadata": {
    "colab": {},
    "colab_type": "code",
    "id": "pzfvwB8nvddW"
   },
   "outputs": [
    {
     "name": "stdout",
     "output_type": "stream",
     "text": [
      "el elemento que stamos introduciendo es: 9\n",
      "la suma parcial de los elementos es: 9\n",
      "actualmente vamos por el elemento: 1\n",
      "el elemento que stamos introduciendo es: 13\n",
      "la suma parcial de los elementos es: 22\n",
      "actualmente vamos por el elemento: 2\n",
      "el elemento que stamos introduciendo es: 2\n",
      "la suma parcial de los elementos es: 24\n",
      "actualmente vamos por el elemento: 3\n",
      "el elemento que stamos introduciendo es: 7\n",
      "la suma parcial de los elementos es: 31\n",
      "actualmente vamos por el elemento: 4\n",
      "el elemento que stamos introduciendo es: 124\n",
      "la suma parcial de los elementos es: 155\n",
      "actualmente vamos por el elemento: 5\n",
      "el elemento que stamos introduciendo es: 5\n",
      "la suma parcial de los elementos es: 160\n",
      "actualmente vamos por el elemento: 6\n",
      "La media de los 6 elementos positivos de la lista es: 26.666666666666668\n"
     ]
    }
   ],
   "source": [
    "lista = [9,13,2,7,124,-5]\n",
    "tot = 0\n",
    "count = 0\n",
    "for i in lista:\n",
    "    print(f\"el elemento que stamos introduciendo es: {abs(i)}\")\n",
    "    tot = tot + abs(i)\n",
    "    print(f\"la suma parcial de los elementos es: {tot}\")\n",
    "    count = count + 1\n",
    "    print (f\"actualmente vamos por el elemento: {count}\")\n",
    "mean = tot / count\n",
    "print (f'La media de los {count} elementos positivos de la lista es: {mean}')"
   ]
  },
  {
   "cell_type": "code",
   "execution_count": 12,
   "metadata": {
    "colab": {},
    "colab_type": "code",
    "id": "YqtvXn12udGZ"
   },
   "outputs": [
    {
     "name": "stdout",
     "output_type": "stream",
     "text": [
      "0.35714285714285715\n"
     ]
    }
   ],
   "source": [
    "lista = [4,1,4,2,3]\n",
    "cuenta = 0\n",
    "resultado = 0\n",
    "for elemento in lista:\n",
    "    cuenta = cuenta + 1\n",
    "    resultado = resultado + elemento\n",
    "print (cuenta/resultado)"
   ]
  },
  {
   "cell_type": "markdown",
   "metadata": {
    "colab_type": "text",
    "id": "hxdrnsTGwYRb"
   },
   "source": [
    "### Buscando si un elemento existe"
   ]
  },
  {
   "cell_type": "code",
   "execution_count": 13,
   "metadata": {
    "colab": {},
    "colab_type": "code",
    "id": "hzeuZvgPwljX"
   },
   "outputs": [
    {
     "name": "stdout",
     "output_type": "stream",
     "text": [
      "True\n"
     ]
    }
   ],
   "source": [
    "lista = [9,13,2,7,124,-5]\n",
    "print(7 in lista)"
   ]
  },
  {
   "cell_type": "markdown",
   "metadata": {
    "colab_type": "text",
    "id": "wePLho9SwwQe"
   },
   "source": [
    "y SIN usar in?"
   ]
  },
  {
   "cell_type": "code",
   "execution_count": 14,
   "metadata": {
    "colab": {},
    "colab_type": "code",
    "id": "Nh8gCr3mwz2g"
   },
   "outputs": [
    {
     "name": "stdout",
     "output_type": "stream",
     "text": [
      " 7 is in lista: True\n"
     ]
    }
   ],
   "source": [
    "lista = [9,13,2,7,124,-5]\n",
    "element = 7\n",
    "inL = False\n",
    "for i in lista:\n",
    "    if i == element:\n",
    "        inL = True\n",
    "        break\n",
    "print(f\" 7 is in lista: {inL}\")"
   ]
  },
  {
   "cell_type": "code",
   "execution_count": 15,
   "metadata": {
    "colab": {},
    "colab_type": "code",
    "id": "Nh8gCr3mwz2g"
   },
   "outputs": [
    {
     "name": "stdout",
     "output_type": "stream",
     "text": [
      "estamos en el elemento: 9\n",
      "estamos en el elemento: 13\n",
      "estamos en el elemento: 2\n",
      "estamos en el elemento: 7\n",
      "estamos en el elemento: 124\n",
      "estamos en el elemento: -5\n",
      " el valor 13 esta en la lista 1 veces \n"
     ]
    }
   ],
   "source": [
    "lista = [9,13,2,7,124,-5]\n",
    "existe = False\n",
    "valor = 13\n",
    "cuenta = 0\n",
    "for elemento in lista:\n",
    "    print(f\"estamos en el elemento: {elemento}\")\n",
    "    if elemento == valor:\n",
    "        existe = True\n",
    "        cuenta = cuenta +1\n",
    "print(f\" el valor {valor} esta en la lista {cuenta} veces \")"
   ]
  },
  {
   "cell_type": "code",
   "execution_count": 16,
   "metadata": {},
   "outputs": [
    {
     "name": "stdout",
     "output_type": "stream",
     "text": [
      "False\n"
     ]
    }
   ],
   "source": [
    "lista = [9,12,6,3,5]\n",
    "print(63 in lista)"
   ]
  },
  {
   "cell_type": "markdown",
   "metadata": {
    "colab_type": "text",
    "id": "Ni6ZH2k6yzvt"
   },
   "source": [
    "### Buscando el elemento más grande/pequeño de la lista"
   ]
  },
  {
   "cell_type": "code",
   "execution_count": 17,
   "metadata": {
    "colab": {},
    "colab_type": "code",
    "id": "CAOfVCRxzD-c"
   },
   "outputs": [
    {
     "name": "stdout",
     "output_type": "stream",
     "text": [
      "124\n",
      "-5\n"
     ]
    }
   ],
   "source": [
    "lista = [9,13,2,7,124,-5]\n",
    "print(max(lista))\n",
    "print(min(lista))"
   ]
  },
  {
   "cell_type": "markdown",
   "metadata": {
    "colab_type": "text",
    "id": "ESfBQB0szMrS"
   },
   "source": [
    "Y sin usar max/min?"
   ]
  },
  {
   "cell_type": "code",
   "execution_count": 18,
   "metadata": {
    "colab": {},
    "colab_type": "code",
    "id": "6WhuM38BzPwG"
   },
   "outputs": [
    {
     "name": "stdout",
     "output_type": "stream",
     "text": [
      "el máximo número de la lista es: 124, y el minimo número de la lista es: -5\n"
     ]
    }
   ],
   "source": [
    "lista = [9,13,2,7,124,-5]\n",
    "#no funciona bien cuando la lista es negativa.. \n",
    "#listanegativa = [-9,-13,2,-7,-124,-5]\n",
    "maxL = 0\n",
    "minL = 0\n",
    "for i in lista:\n",
    "    if i > maxL:\n",
    "        maxL = i\n",
    "    else: \n",
    "        minL = i\n",
    "\n",
    "print(f\"el máximo número de la lista es: {maxL}, y el minimo número de la lista es: {minL}\")"
   ]
  },
  {
   "cell_type": "code",
   "execution_count": 19,
   "metadata": {
    "colab_type": "text",
    "id": "qrO5SK2wzQs7"
   },
   "outputs": [
    {
     "name": "stdout",
     "output_type": "stream",
     "text": [
      "el mayor elemento de la lista es 2\n",
      "el menor elemento de la lista es -124\n"
     ]
    }
   ],
   "source": [
    "#Otra solución\n",
    "listanegativa = [-9,-13,2,-7,-124,-5]\n",
    "_max = None\n",
    "_min = None\n",
    "for item in listanegativa:\n",
    "  if _max==None and _min == None:\n",
    "    _max=item  \n",
    "    _min=item\n",
    "  else:\n",
    "    if _max < item:\n",
    "      _max = item\n",
    "    if _min > item:\n",
    "      _min = item\n",
    "print (f'el mayor elemento de la lista es {_max}')\n",
    "print (f'el menor elemento de la lista es {_min}')"
   ]
  }
 ],
 "metadata": {
  "colab": {
   "collapsed_sections": [],
   "name": "pythonUPVX23.ipynb",
   "provenance": [
    {
     "file_id": "1NJgefnIma0M0TCehDpemhS-FbdoQjhnr",
     "timestamp": 1576744121896
    },
    {
     "file_id": "1bQqQD1yADQbjXdYYzGs4eWU89nqaDLKD",
     "timestamp": 1576602102148
    }
   ]
  },
  "kernelspec": {
   "display_name": "Python 3",
   "language": "python",
   "name": "python3"
  },
  "language_info": {
   "codemirror_mode": {
    "name": "ipython",
    "version": 3
   },
   "file_extension": ".py",
   "mimetype": "text/x-python",
   "name": "python",
   "nbconvert_exporter": "python",
   "pygments_lexer": "ipython3",
   "version": "3.7.4"
  }
 },
 "nbformat": 4,
 "nbformat_minor": 1
}
