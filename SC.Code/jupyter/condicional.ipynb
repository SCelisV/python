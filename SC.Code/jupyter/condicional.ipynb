{
 "cells": [
  {
   "cell_type": "markdown",
   "metadata": {
    "colab_type": "text",
    "id": "DTLdged0qqgl"
   },
   "source": [
    "#Estructuras de control de flujo condicional\n",
    "\n",
    "<img src=\"https://i.imgur.com/6LhvTkZ.png\" width=300 height=500>"
   ]
  },
  {
   "cell_type": "code",
   "execution_count": 1,
   "metadata": {
    "colab": {},
    "colab_type": "code",
    "id": "YAaO0xUFo8qI"
   },
   "outputs": [
    {
     "name": "stdout",
     "output_type": "stream",
     "text": [
      "True\n",
      "Siguiente Instrucción\n"
     ]
    }
   ],
   "source": [
    "a=True\n",
    "if(a):\n",
    "    print(a)\n",
    "print('Siguiente Instrucción')"
   ]
  },
  {
   "cell_type": "markdown",
   "metadata": {
    "colab_type": "text",
    "id": "dEjgqaPcq4uI"
   },
   "source": [
    "<img src=\"https://i.imgur.com/HL1g6GP.png\" width=300 height=500>"
   ]
  },
  {
   "cell_type": "code",
   "execution_count": 2,
   "metadata": {
    "colab": {},
    "colab_type": "code",
    "id": "qX1ToeePqb1p"
   },
   "outputs": [
    {
     "name": "stdout",
     "output_type": "stream",
     "text": [
      "True\n",
      "Siguiente Instrucción\n"
     ]
    }
   ],
   "source": [
    "a=True\n",
    "if(a):\n",
    "    print(a)\n",
    "else:\n",
    "    print(\"no\")\n",
    "print('Siguiente Instrucción')"
   ]
  },
  {
   "cell_type": "markdown",
   "metadata": {
    "colab_type": "text",
    "id": "vMxj3a7NrFfx"
   },
   "source": [
    "<img src=\"https://i.imgur.com/djauuIi.png\" width=350 height=500>"
   ]
  },
  {
   "cell_type": "code",
   "execution_count": 0,
   "metadata": {
    "colab": {},
    "colab_type": "code",
    "id": "OhOfEwLErJVw"
   },
   "outputs": [],
   "source": [
    "a=3\n",
    "if a==4:\n",
    "    print(\"cuatro\")\n",
    "elif a>2:\n",
    "    print(\"grt2\")\n",
    "print(\"siguiente instrucción\")"
   ]
  }
 ],
 "metadata": {
  "colab": {
   "name": "pythonUPVX15.ipynb",
   "provenance": []
  },
  "kernelspec": {
   "display_name": "Python 3",
   "language": "python",
   "name": "python3"
  },
  "language_info": {
   "codemirror_mode": {
    "name": "ipython",
    "version": 3
   },
   "file_extension": ".py",
   "mimetype": "text/x-python",
   "name": "python",
   "nbconvert_exporter": "python",
   "pygments_lexer": "ipython3",
   "version": "3.7.4"
  }
 },
 "nbformat": 4,
 "nbformat_minor": 1
}
