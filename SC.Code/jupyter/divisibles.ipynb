{
 "cells": [
  {
   "cell_type": "markdown",
   "metadata": {
    "colab_type": "text",
    "id": "_4VzBeb-vfLy"
   },
   "source": [
    "**reinicia el kernel** (en la barra de menu, selecciona Kernel$\\rightarrow$Restart)"
   ]
  },
  {
   "cell_type": "markdown",
   "metadata": {
    "colab_type": "text",
    "id": "8zMJvL_6u6MD"
   },
   "source": [
    "## Escribe los divisibles entre 5 ó 7 de un número dado?\n",
    "El objeto de esta práctica es realizar un programa que solicite al usuario un número entero positivo e imprima todos los números divisibles entre 5 o 7 menores o iguales que el número. Para ello tendréis que utilizar un bucle."
   ]
  },
  {
   "cell_type": "code",
   "execution_count": 99,
   "metadata": {},
   "outputs": [
    {
     "name": "stdout",
     "output_type": "stream",
     "text": [
      "Introduce un número entero positivo: 30\n",
      "el número: 30, es divisible entre 5 ó 7 por: [5, 7, 10, 14, 15, 20, 21, 25, 28, 30]\n",
      "That's all, folks!! :)\n"
     ]
    }
   ],
   "source": [
    "num = input('Introduce un número entero positivo: ')\n",
    "try:\n",
    "    iNum = int(num)\n",
    "   \n",
    "    \n",
    "    if (iNum > 0):\n",
    "        \n",
    "        divisibles = []\n",
    "        #print(\"antesDivisibles--:\", iNum)\n",
    "        for i in range(1,iNum+1):\n",
    "            #print(\"iNum--:\", iNum, i)\n",
    "            if (i%5==0) or (i%7==0):\n",
    "                #print(f\"es divisible: {i}\")\n",
    "                divisibles.append(i)\n",
    "\n",
    "        iLong = len(divisibles)\n",
    "        #print(\"iLong:\", iLong)\n",
    "        \n",
    "        if(iLong != 0):\n",
    "            print(f\"el número: {iNum}, es divisible entre 5 ó 7 por: {divisibles}\")\n",
    "        else:\n",
    "            print(f\"el número: {iNum}, NO es divisible entre 5 ó 7\")\n",
    " \n",
    "    else:\n",
    "        #print('elseiNum:', iNum)\n",
    "        iNum = -1\n",
    "        \n",
    "except Exception as e:\n",
    "    #print('exceptiNum:', iNum)\n",
    "    iNum = -1\n",
    "\n",
    "if (iNum == -1):\n",
    "    print ('Debe ser entero positivo, por favor intentelo de nuevo :/')\n",
    "\n",
    "\n",
    "print ('That\\'s all, folks!! :)')    "
   ]
  },
  {
   "cell_type": "markdown",
   "metadata": {
    "colab_type": "text",
    "id": "IuySwY1Ov8j0"
   },
   "source": [
    "<details>\n",
    "<summary>Pincha aqui para ver la solución</summary>\n",
    "<pre><code>\n",
    "num = input(\"Introduce un número: \")\n",
    "numInt = int(num)\n",
    "if (numInt >0):\n",
    "  for i in range(0,numInt):\n",
    "    if((i%7==0) or (i%5==0)):\n",
    "       print(i)\n",
    "else:\n",
    "  print(\"Por favor introduce un número positivo\")\n",
    "<code><pre>\n",
    "</details>"
   ]
  }
 ],
 "metadata": {
  "colab": {
   "collapsed_sections": [],
   "name": "pythonUPVX22.ipynb",
   "provenance": [
    {
     "file_id": "1bQqQD1yADQbjXdYYzGs4eWU89nqaDLKD",
     "timestamp": 1576602102148
    }
   ]
  },
  "kernelspec": {
   "display_name": "Python 3",
   "language": "python",
   "name": "python3"
  },
  "language_info": {
   "codemirror_mode": {
    "name": "ipython",
    "version": 3
   },
   "file_extension": ".py",
   "mimetype": "text/x-python",
   "name": "python",
   "nbconvert_exporter": "python",
   "pygments_lexer": "ipython3",
   "version": "3.7.4"
  }
 },
 "nbformat": 4,
 "nbformat_minor": 1
}
