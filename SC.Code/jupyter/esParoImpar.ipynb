{
 "cells": [
  {
   "cell_type": "markdown",
   "metadata": {
    "colab_type": "text",
    "id": "_4VzBeb-vfLy"
   },
   "source": [
    "Primero, **reinicia el kernel** (en la barra de menu, selecciona Kernel$\\rightarrow$Restart) "
   ]
  },
  {
   "cell_type": "markdown",
   "metadata": {
    "colab_type": "text",
    "id": "8zMJvL_6u6MD"
   },
   "source": [
    "## Par o Impar?\n",
    "Le pediremos al usuario un número y debe mostrar el mensaje \"el número **numero** es par/impar\" dependiendo del número introducido:\n"
   ]
  },
  {
   "cell_type": "code",
   "execution_count": null,
   "metadata": {
    "colab": {},
    "colab_type": "code",
    "id": "pmHq2UMLufi6"
   },
   "outputs": [],
   "source": [
    "try:\n",
    "    num = input('Introduce un número:')\n",
    "    iNum = int(num)\n",
    "except Exception as e: #no va a dar error\n",
    "    iNum = -1\n",
    "\n",
    "if iNum == -1:\n",
    "    print ('El dato de entrada debe ser un número, por favor intentelo de nuevo')\n",
    "else:\n",
    "    iMod = float(iNum%2)\n",
    "    if(iMod==0):\n",
    "        print(f\"El número {iNum} ,es un número PAR\")\n",
    "    else:\n",
    "        print(f\"El número {iNum}, es un número iMPar\")  \n",
    "\n",
    "print(\"finalizar\")"
   ]
  },
  {
   "cell_type": "markdown",
   "metadata": {
    "colab_type": "text",
    "id": "IuySwY1Ov8j0"
   },
   "source": [
    "<details>\n",
    "<summary>Pincha aqui para ver la solución</summary>\n",
    "<pre>\n",
    "<code>\n",
    "num = input(\"Introduce un número: \")\n",
    "numInt = int(num)\n",
    "if (numInt % 2==0):\n",
    "&nbsp;&nbsp;&nbsp;&nbsp;print (\"el número\", numInt, \"es par\")\n",
    "else:\n",
    "&nbsp;&nbsp;&nbsp;&nbsp;print (\"el número\", numInt, \"es impar\")\n",
    "<code>\n",
    "<pre>\n",
    "</details>"
   ]
  },
  {
   "cell_type": "code",
   "execution_count": null,
   "metadata": {},
   "outputs": [],
   "source": [
    "num = input(\"Introduce un número: \")\n",
    "numInt = int(num)\n",
    "if (numInt % 2==0):\n",
    "    print (\"el número\", numInt, \"es par\")\n",
    "else:\n",
    "    print (\"el número\", numInt, \"es impar\")"
   ]
  }
 ],
 "metadata": {
  "colab": {
   "name": "pythonUPVX21.ipynb",
   "provenance": []
  },
  "kernelspec": {
   "display_name": "Python 3",
   "language": "python",
   "name": "python3"
  },
  "language_info": {
   "codemirror_mode": {
    "name": "ipython",
    "version": 3
   },
   "file_extension": ".py",
   "mimetype": "text/x-python",
   "name": "python",
   "nbconvert_exporter": "python",
   "pygments_lexer": "ipython3",
   "version": "3.7.4"
  }
 },
 "nbformat": 4,
 "nbformat_minor": 1
}
