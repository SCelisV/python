{
 "cells": [
  {
   "cell_type": "markdown",
   "metadata": {
    "colab_type": "text",
    "id": "SEs7KhlnFPJ3"
   },
   "source": [
    "# Ficheros -:. .:- TEXTO - TXT"
   ]
  },
  {
   "cell_type": "code",
   "execution_count": 55,
   "metadata": {},
   "outputs": [
    {
     "name": "stdout",
     "output_type": "stream",
     "text": [
      "Help on built-in function open in module io:\n",
      "\n",
      "open(file, mode='r', buffering=-1, encoding=None, errors=None, newline=None, closefd=True, opener=None)\n",
      "    Open file and return a stream.  Raise OSError upon failure.\n",
      "    \n",
      "    file is either a text or byte string giving the name (and the path\n",
      "    if the file isn't in the current working directory) of the file to\n",
      "    be opened or an integer file descriptor of the file to be\n",
      "    wrapped. (If a file descriptor is given, it is closed when the\n",
      "    returned I/O object is closed, unless closefd is set to False.)\n",
      "    \n",
      "    mode is an optional string that specifies the mode in which the file\n",
      "    is opened. It defaults to 'r' which means open for reading in text\n",
      "    mode.  Other common values are 'w' for writing (truncating the file if\n",
      "    it already exists), 'x' for creating and writing to a new file, and\n",
      "    'a' for appending (which on some Unix systems, means that all writes\n",
      "    append to the end of the file regardless of the current seek position).\n",
      "    In text mode, if encoding is not specified the encoding used is platform\n",
      "    dependent: locale.getpreferredencoding(False) is called to get the\n",
      "    current locale encoding. (For reading and writing raw bytes use binary\n",
      "    mode and leave encoding unspecified.) The available modes are:\n",
      "    \n",
      "    ========= ===============================================================\n",
      "    Character Meaning\n",
      "    --------- ---------------------------------------------------------------\n",
      "    'r'       open for reading (default)\n",
      "    'w'       open for writing, truncating the file first\n",
      "    'x'       create a new file and open it for writing\n",
      "    'a'       open for writing, appending to the end of the file if it exists\n",
      "    'b'       binary mode\n",
      "    't'       text mode (default)\n",
      "    '+'       open a disk file for updating (reading and writing)\n",
      "    'U'       universal newline mode (deprecated)\n",
      "    ========= ===============================================================\n",
      "    \n",
      "    The default mode is 'rt' (open for reading text). For binary random\n",
      "    access, the mode 'w+b' opens and truncates the file to 0 bytes, while\n",
      "    'r+b' opens the file without truncation. The 'x' mode implies 'w' and\n",
      "    raises an `FileExistsError` if the file already exists.\n",
      "    \n",
      "    Python distinguishes between files opened in binary and text modes,\n",
      "    even when the underlying operating system doesn't. Files opened in\n",
      "    binary mode (appending 'b' to the mode argument) return contents as\n",
      "    bytes objects without any decoding. In text mode (the default, or when\n",
      "    't' is appended to the mode argument), the contents of the file are\n",
      "    returned as strings, the bytes having been first decoded using a\n",
      "    platform-dependent encoding or using the specified encoding if given.\n",
      "    \n",
      "    'U' mode is deprecated and will raise an exception in future versions\n",
      "    of Python.  It has no effect in Python 3.  Use newline to control\n",
      "    universal newlines mode.\n",
      "    \n",
      "    buffering is an optional integer used to set the buffering policy.\n",
      "    Pass 0 to switch buffering off (only allowed in binary mode), 1 to select\n",
      "    line buffering (only usable in text mode), and an integer > 1 to indicate\n",
      "    the size of a fixed-size chunk buffer.  When no buffering argument is\n",
      "    given, the default buffering policy works as follows:\n",
      "    \n",
      "    * Binary files are buffered in fixed-size chunks; the size of the buffer\n",
      "      is chosen using a heuristic trying to determine the underlying device's\n",
      "      \"block size\" and falling back on `io.DEFAULT_BUFFER_SIZE`.\n",
      "      On many systems, the buffer will typically be 4096 or 8192 bytes long.\n",
      "    \n",
      "    * \"Interactive\" text files (files for which isatty() returns True)\n",
      "      use line buffering.  Other text files use the policy described above\n",
      "      for binary files.\n",
      "    \n",
      "    encoding is the name of the encoding used to decode or encode the\n",
      "    file. This should only be used in text mode. The default encoding is\n",
      "    platform dependent, but any encoding supported by Python can be\n",
      "    passed.  See the codecs module for the list of supported encodings.\n",
      "    \n",
      "    errors is an optional string that specifies how encoding errors are to\n",
      "    be handled---this argument should not be used in binary mode. Pass\n",
      "    'strict' to raise a ValueError exception if there is an encoding error\n",
      "    (the default of None has the same effect), or pass 'ignore' to ignore\n",
      "    errors. (Note that ignoring encoding errors can lead to data loss.)\n",
      "    See the documentation for codecs.register or run 'help(codecs.Codec)'\n",
      "    for a list of the permitted encoding error strings.\n",
      "    \n",
      "    newline controls how universal newlines works (it only applies to text\n",
      "    mode). It can be None, '', '\\n', '\\r', and '\\r\\n'.  It works as\n",
      "    follows:\n",
      "    \n",
      "    * On input, if newline is None, universal newlines mode is\n",
      "      enabled. Lines in the input can end in '\\n', '\\r', or '\\r\\n', and\n",
      "      these are translated into '\\n' before being returned to the\n",
      "      caller. If it is '', universal newline mode is enabled, but line\n",
      "      endings are returned to the caller untranslated. If it has any of\n",
      "      the other legal values, input lines are only terminated by the given\n",
      "      string, and the line ending is returned to the caller untranslated.\n",
      "    \n",
      "    * On output, if newline is None, any '\\n' characters written are\n",
      "      translated to the system default line separator, os.linesep. If\n",
      "      newline is '' or '\\n', no translation takes place. If newline is any\n",
      "      of the other legal values, any '\\n' characters written are translated\n",
      "      to the given string.\n",
      "    \n",
      "    If closefd is False, the underlying file descriptor will be kept open\n",
      "    when the file is closed. This does not work when a file name is given\n",
      "    and must be True in that case.\n",
      "    \n",
      "    A custom opener can be used by passing a callable as *opener*. The\n",
      "    underlying file descriptor for the file object is then obtained by\n",
      "    calling *opener* with (*file*, *flags*). *opener* must return an open\n",
      "    file descriptor (passing os.open as *opener* results in functionality\n",
      "    similar to passing None).\n",
      "    \n",
      "    open() returns a file object whose type depends on the mode, and\n",
      "    through which the standard file operations such as reading and writing\n",
      "    are performed. When open() is used to open a file in a text mode ('w',\n",
      "    'r', 'wt', 'rt', etc.), it returns a TextIOWrapper. When used to open\n",
      "    a file in a binary mode, the returned class varies: in read binary\n",
      "    mode, it returns a BufferedReader; in write binary and append binary\n",
      "    modes, it returns a BufferedWriter, and in read/write mode, it returns\n",
      "    a BufferedRandom.\n",
      "    \n",
      "    It is also possible to use a string or bytearray as a file for both\n",
      "    reading and writing. For strings StringIO can be used like a file\n",
      "    opened in a text mode, and for bytes a BytesIO can be used like a file\n",
      "    opened in a binary mode.\n",
      "\n"
     ]
    }
   ],
   "source": [
    "help(open)"
   ]
  },
  {
   "cell_type": "markdown",
   "metadata": {
    "colab_type": "text",
    "id": "Uo7M9_9HGMjB"
   },
   "source": [
    "#### modos de apertura de ficheros\n",
    "\n",
    "| Indicador | Modo de apertura                                                                                     | Ubicación del puntero                                                        |\n",
    "|-----------|------------------------------------------------------------------------------------------------------|------------------------------------------------------------------------------|\n",
    "| r, default         | Solo lectura - csv - txt                                                                                         | Al inicio del archivo                                                        |\n",
    "| rb        | Solo lectura en modo binario - video, audio                                                                         | Al inicio del archivo                                                        |\n",
    "| r+        | Lectura y escritura                                                                                  | Al inicio del archivo                                                        |\n",
    "| rb+       | Lectura y escritura en modo binario                                                                  | Al inicio del archivo                                                        |\n",
    "| w         | Solo escritura. Sobreescribe el archivo si existe. Crea el archivo si no existe                      | Al inicio del archivo                                                        |\n",
    "| wb        | Solo escritura en modo binario. Sobreescribe el archivo si existe. Crea el archivo si no existe      | Al inicio del archivo                                                        |\n",
    "| w+        | Escritura y lectura. Sobreescribe el archivo si existe. Crea el archivo si no existe                 | Al inicio del archivo                                                        |\n",
    "| wb+       | Escritura y lectura en modo binario. Sobreescribe el archivo si existe. Crea el archivo si no existe | Al inicio del archivo                                                        |\n",
    "| a         | Añadido (agregar contenido). Crea el archivo si éste no existe                                       | Si el archivo existe, al final de éste. Si el archivo no existe, al comienzo |\n",
    "| ab        | Añadido en modo binario (agregar contenido). Crea el archivo si éste no existe                       | Si el archivo existe, al final de éste. Si el archivo no existe, al comienzo |\n",
    "| a+        | Añadido (agregar contenido) y lectura. Crea el archivo si éste no existe.                            | Si el archivo existe, al final de éste. Si el archivo no existe, al comienzo |\n",
    "| ab+       | Añadido (agregar contenido) y lectura en modo binario. Crea el archivo si éste no existe             | Si el archivo existe, al final de éste. Si el archivo no existe, al comienzo |"
   ]
  },
  {
   "cell_type": "code",
   "execution_count": 37,
   "metadata": {
    "colab": {},
    "colab_type": "code",
    "id": "-Z7geWwjbTCX"
   },
   "outputs": [
    {
     "name": "stdout",
     "output_type": "stream",
     "text": [
      ";;;;;;;\n",
      "Movimientos de la Cuenta;;  Número de cuenta:;ES22 1465 0100 91 1714750599;;;;\n",
      ";;  Titular:;SONIA PATRICIA CELIS VASQUEZ;;;;\n",
      ";;  Fecha exportación:;13/07/2020 12:46h;;;;\n",
      ";;;;;;;\n",
      "F. VALOR;CATEGORÍA;SUBCATEGORÍA;DESCRIPCIÓN;COMENTARIO;IMAGEN;IMPORTE (€);SALDO (€)\n",
      "13/07/2020;Movimiento sin categoría;Transacción entre cuentas de ahorro;Traspaso recibido Cuenta Nómina;;No;40.08;56.05\n",
      "13/07/2020;Movimiento sin categoría;Transacción entre cuentas de ahorro;Traspaso recibido Cuenta Nómina;;No;40.00;15.97\n",
      "13/07/2020;Movimiento sin categoría;Transacción entre cuentas de ahorro;Traspaso recibido Cuenta Nómina;;No;41.35;-24.03\n",
      "11/07/2020;Movimiento sin categoría;Transacción entre cuentas de ahorro;Traspaso periódico emitido nómina;;No;-126.73;-65.38\n",
      "11/07/2020;Movimiento sin categoría;Transacción entre cuentas de ahorro;Traspaso periódico emitido nómina;;No;-590.00;61.35\n",
      "11/07/2020;Movimiento sin categoría;Transacción entre cuentas de ahorro;Traspaso periódico emitido nómina;;No;-172.60;651.35\n",
      "07/07/2020;Hogar;Teléfono, TV e internet;Recibo GRUPO MASMOVIL XFERA;;No;-41.35;823.95\n",
      "06/07/2020;Otros gastos;Otros préstamos y avales;Recibo BANCO CETELEM, S.A.;;No;-348.25;865.30\n",
      "06/07/2020;Otros gastos;Transferencias;Transferencia emitida periódica;;No;-590.00;1,213.55\n",
      "04/07/2020;Ocio y viajes;Cafeterías y restaurantes;Pago en AL FONDO HAY SITIO TRES CANTOS 28;;No;-40.00;1,803.55\n",
      "04/07/2020;Educación, salud y deporte;Farmacia;Pago en FARMACIA ALONSO TRES CANTOS ES;;No;-0.25;1,843.55\n",
      "04/07/2020;Alimentación;Supermercados y alimentación;Pago en MERCADONA PLAZA DE LA ESTTRES CANTOS ES;;No;-40.08;1,843.80\n",
      "04/07/2020;Movimiento sin categoría;Transacción entre cuentas de ahorro;Traspaso periódico recibido;;No;348.25;1,883.88\n",
      "03/07/2020;Nómina y otras prestaciones;Prestación por desempleo;Abono prestación INEM;;No;954.69;1,535.63\n",
      "03/07/2020;Otros gastos;Otros préstamos y avales;Cargo cuota de préstamo;;No;-147.53;580.94\n",
      "03/07/2020;Movimiento sin categoría;Transacción entre cuentas de ahorro;Traspaso periódico recibido;;No;590.00;728.47\n",
      "02/07/2020;;;Comisión Siempre Cubierto;;No;-3.99;138.47\n",
      "02/07/2020;Movimiento sin categoría;Transacción entre cuentas de ahorro;Traspaso periódico recibido;;No;126.73;142.46\n",
      "01/07/2020;Movimiento sin categoría;Transacción entre cuentas de ahorro;Traspaso recibido Cuenta Nómina;;No;53.12;15.73\n",
      "01/07/2020;Movimiento sin categoría;Transacción entre cuentas de ahorro;Traspaso recibido Cuenta Nómina;;No;161.88;-37.39\n",
      "01/07/2020;Educación, salud y deporte;Seguro de salud;Recibo SANITAS S A  DE SEGUROS;;No;-131.80;-199.27\n",
      "01/07/2020;Movimiento sin categoría;Transacción entre cuentas de ahorro;Traspaso periódico recibido;;No;147.53;-67.47\n",
      "\n"
     ]
    }
   ],
   "source": [
    "# abrir fichero - open file\n",
    "archivo = open('ejercicio.csv','r')\n",
    "movements = archivo.read() \n",
    "movements # una cadena de texto que incluye los 'saltos de línea \\n'\n",
    "print (movements) # con print python muestra el fichero sin los 'saltos de línea \\n'"
   ]
  },
  {
   "cell_type": "code",
   "execution_count": 38,
   "metadata": {
    "colab": {},
    "colab_type": "code",
    "id": "cSUbypbHFYAU"
   },
   "outputs": [],
   "source": [
    "# cerrar fichero - close file\n",
    "movements = archivo.close() # -O-J-O- No olvidar cerrar los ficheros\n",
    "movements"
   ]
  },
  {
   "cell_type": "code",
   "execution_count": 60,
   "metadata": {},
   "outputs": [
    {
     "ename": "AttributeError",
     "evalue": "'builtin_function_or_method' object has no attribute 'read'",
     "output_type": "error",
     "traceback": [
      "\u001b[0;31m---------------------------------------------------------------------------\u001b[0m",
      "\u001b[0;31mAttributeError\u001b[0m                            Traceback (most recent call last)",
      "\u001b[0;32m<ipython-input-60-647d51634899>\u001b[0m in \u001b[0;36m<module>\u001b[0;34m\u001b[0m\n\u001b[0;32m----> 1\u001b[0;31m \u001b[0mhelp\u001b[0m\u001b[0;34m(\u001b[0m\u001b[0mopen\u001b[0m\u001b[0;34m.\u001b[0m\u001b[0mread\u001b[0m\u001b[0;34m)\u001b[0m\u001b[0;34m\u001b[0m\u001b[0;34m\u001b[0m\u001b[0m\n\u001b[0m",
      "\u001b[0;31mAttributeError\u001b[0m: 'builtin_function_or_method' object has no attribute 'read'"
     ]
    }
   ],
   "source": [
    "help(open.read)"
   ]
  },
  {
   "cell_type": "markdown",
   "metadata": {
    "colab_type": "text",
    "id": "KRTuaBFUGctS"
   },
   "source": [
    "#### MÉTODOS DEL OBJETO FILE\n",
    "##### read => recorre TODO el fichero"
   ]
  },
  {
   "cell_type": "code",
   "execution_count": 66,
   "metadata": {
    "colab": {},
    "colab_type": "code",
    "id": "8nchKjKMGcdh",
    "scrolled": true
   },
   "outputs": [
    {
     "name": "stdout",
     "output_type": "stream",
     "text": [
      ";;;;;;;\n",
      "Movimientos de la Cuenta;;  Número de cuenta:;ES22 1465 0100 91 1714750599;;;;\n",
      ";;  Titular:;SONIA PATRICIA CELIS VASQUEZ;;;;\n",
      ";;  Fecha exportación:;13/07/2020 12:46h;;;;\n",
      ";;;;;;;\n",
      "F. VALOR;CATEGORÍA;SUBCATEGORÍA;DESCRIPCIÓN;COMENTARIO;IMAGEN;IMPORTE (€);SALDO (€)\n",
      "13/07/2020;Movimiento sin categoría;Transacción entre cuentas de ahorro;Traspaso recibido Cuenta Nómina;;No;40.08;56.05\n",
      "13/07/2020;Movimiento sin categoría;Transacción entre cuentas de ahorro;Traspaso recibido Cuenta Nómina;;No;40.00;15.97\n",
      "13/07/2020;Movimiento sin categoría;Transacción entre cuentas de ahorro;Traspaso recibido Cuenta Nómina;;No;41.35;-24.03\n",
      "11/07/2020;Movimiento sin categoría;Transacción entre cuentas de ahorro;Traspaso periódico emitido nómina;;No;-126.73;-65.38\n",
      "11/07/2020;Movimiento sin categoría;Transacción entre cuentas de ahorro;Traspaso periódico emitido nómina;;No;-590.00;61.35\n",
      "11/07/2020;Movimiento sin categoría;Transacción entre cuentas de ahorro;Traspaso periódico emitido nómina;;No;-172.60;651.35\n",
      "07/07/2020;Hogar;Teléfono, TV e internet;Recibo GRUPO MASMOVIL XFERA;;No;-41.35;823.95\n",
      "06/07/2020;Otros gastos;Otros préstamos y avales;Recibo BANCO CETELEM, S.A.;;No;-348.25;865.30\n",
      "06/07/2020;Otros gastos;Transferencias;Transferencia emitida periódica;;No;-590.00;1,213.55\n",
      "04/07/2020;Ocio y viajes;Cafeterías y restaurantes;Pago en AL FONDO HAY SITIO TRES CANTOS 28;;No;-40.00;1,803.55\n",
      "04/07/2020;Educación, salud y deporte;Farmacia;Pago en FARMACIA ALONSO TRES CANTOS ES;;No;-0.25;1,843.55\n",
      "04/07/2020;Alimentación;Supermercados y alimentación;Pago en MERCADONA PLAZA DE LA ESTTRES CANTOS ES;;No;-40.08;1,843.80\n",
      "04/07/2020;Movimiento sin categoría;Transacción entre cuentas de ahorro;Traspaso periódico recibido;;No;348.25;1,883.88\n",
      "03/07/2020;Nómina y otras prestaciones;Prestación por desempleo;Abono prestación INEM;;No;954.69;1,535.63\n",
      "03/07/2020;Otros gastos;Otros préstamos y avales;Cargo cuota de préstamo;;No;-147.53;580.94\n",
      "03/07/2020;Movimiento sin categoría;Transacción entre cuentas de ahorro;Traspaso periódico recibido;;No;590.00;728.47\n",
      "02/07/2020;;;Comisión Siempre Cubierto;;No;-3.99;138.47\n",
      "02/07/2020;Movimiento sin categoría;Transacción entre cuentas de ahorro;Traspaso periódico recibido;;No;126.73;142.46\n",
      "01/07/2020;Movimiento sin categoría;Transacción entre cuentas de ahorro;Traspaso recibido Cuenta Nómina;;No;53.12;15.73\n",
      "01/07/2020;Movimiento sin categoría;Transacción entre cuentas de ahorro;Traspaso recibido Cuenta Nómina;;No;161.88;-37.39\n",
      "01/07/2020;Educación, salud y deporte;Seguro de salud;Recibo SANITAS S A  DE SEGUROS;;No;-131.80;-199.27\n",
      "01/07/2020;Movimiento sin categoría;Transacción entre cuentas de ahorro;Traspaso periódico recibido;;No;147.53;-67.47\n",
      "\n",
      "este sería el final del archivo: 2755 bytes\n"
     ]
    }
   ],
   "source": [
    "archivo = open('ejercicio.csv', 'r') \n",
    "contenido = archivo.read() # -O-J-O- con los \"saltos de línea \\n, en este momento el read() \n",
    "''' lo que le dice al sistema\n",
    "    es que almacene todo como una cadena de caracteres y que lo almacene en una variable contenido '''\n",
    "print(contenido)# -O-J-O- con print python muestra el fichero sin los 'saltos de línea \\n\n",
    "print (f\"este sería el final del archivo: {archivo.tell()} bytes\")\n",
    "archivo.close() # -O-J-O- No olvidar cerrar los ficheros"
   ]
  },
  {
   "cell_type": "markdown",
   "metadata": {
    "colab_type": "text",
    "id": "iA9jLETKGuwX"
   },
   "source": [
    "##### readline #  en este momento el sistema leera el fichero como si fuera un print, linea por línea"
   ]
  },
  {
   "cell_type": "code",
   "execution_count": 47,
   "metadata": {
    "colab": {},
    "colab_type": "code",
    "id": "m_EmLuaAGl9J"
   },
   "outputs": [
    {
     "name": "stdout",
     "output_type": "stream",
     "text": [
      ";;;;;;;\n",
      "Movimientos de la Cuenta;;  Número de cuenta:;ES22 1465 0100 91 1714750599;;;;\n",
      ";;  Titular:;SONIA PATRICIA CELIS VASQUEZ;;;;\n"
     ]
    }
   ],
   "source": [
    "archivo = open('ejercicio.csv', 'r') \n",
    "linea0 = archivo.readline()\n",
    "linea1 = archivo.readline()\n",
    "linea2 = archivo.readline()\n",
    "print (linea0.strip())\n",
    "print (linea1.strip())\n",
    "print (linea2.strip())\n",
    "archivo.close()"
   ]
  },
  {
   "cell_type": "markdown",
   "metadata": {
    "colab_type": "text",
    "id": "JmsVqnoNGw7v"
   },
   "source": [
    "##### readlines  en este momento el sistema leera el fichero como si fuera un print, linea por línea"
   ]
  },
  {
   "cell_type": "code",
   "execution_count": 49,
   "metadata": {
    "colab": {},
    "colab_type": "code",
    "id": "WPOm0eonGxU_"
   },
   "outputs": [
    {
     "name": "stdout",
     "output_type": "stream",
     "text": [
      ";;;;;;;\n",
      "Movimientos de la Cuenta;;  Número de cuenta:;ES22 1465 0100 91 1714750599;;;;\n",
      ";;  Titular:;SONIA PATRICIA CELIS VASQUEZ;;;;\n",
      ";;  Fecha exportación:;13/07/2020 12:46h;;;;\n",
      ";;;;;;;\n",
      "F. VALOR;CATEGORÍA;SUBCATEGORÍA;DESCRIPCIÓN;COMENTARIO;IMAGEN;IMPORTE (€);SALDO (€)\n",
      "13/07/2020;Movimiento sin categoría;Transacción entre cuentas de ahorro;Traspaso recibido Cuenta Nómina;;No;40.08;56.05\n",
      "13/07/2020;Movimiento sin categoría;Transacción entre cuentas de ahorro;Traspaso recibido Cuenta Nómina;;No;40.00;15.97\n",
      "13/07/2020;Movimiento sin categoría;Transacción entre cuentas de ahorro;Traspaso recibido Cuenta Nómina;;No;41.35;-24.03\n",
      "11/07/2020;Movimiento sin categoría;Transacción entre cuentas de ahorro;Traspaso periódico emitido nómina;;No;-126.73;-65.38\n",
      "11/07/2020;Movimiento sin categoría;Transacción entre cuentas de ahorro;Traspaso periódico emitido nómina;;No;-590.00;61.35\n",
      "11/07/2020;Movimiento sin categoría;Transacción entre cuentas de ahorro;Traspaso periódico emitido nómina;;No;-172.60;651.35\n",
      "07/07/2020;Hogar;Teléfono, TV e internet;Recibo GRUPO MASMOVIL XFERA;;No;-41.35;823.95\n",
      "06/07/2020;Otros gastos;Otros préstamos y avales;Recibo BANCO CETELEM, S.A.;;No;-348.25;865.30\n",
      "06/07/2020;Otros gastos;Transferencias;Transferencia emitida periódica;;No;-590.00;1,213.55\n",
      "04/07/2020;Ocio y viajes;Cafeterías y restaurantes;Pago en AL FONDO HAY SITIO TRES CANTOS 28;;No;-40.00;1,803.55\n",
      "04/07/2020;Educación, salud y deporte;Farmacia;Pago en FARMACIA ALONSO TRES CANTOS ES;;No;-0.25;1,843.55\n",
      "04/07/2020;Alimentación;Supermercados y alimentación;Pago en MERCADONA PLAZA DE LA ESTTRES CANTOS ES;;No;-40.08;1,843.80\n",
      "04/07/2020;Movimiento sin categoría;Transacción entre cuentas de ahorro;Traspaso periódico recibido;;No;348.25;1,883.88\n",
      "03/07/2020;Nómina y otras prestaciones;Prestación por desempleo;Abono prestación INEM;;No;954.69;1,535.63\n",
      "03/07/2020;Otros gastos;Otros préstamos y avales;Cargo cuota de préstamo;;No;-147.53;580.94\n",
      "03/07/2020;Movimiento sin categoría;Transacción entre cuentas de ahorro;Traspaso periódico recibido;;No;590.00;728.47\n",
      "02/07/2020;;;Comisión Siempre Cubierto;;No;-3.99;138.47\n",
      "02/07/2020;Movimiento sin categoría;Transacción entre cuentas de ahorro;Traspaso periódico recibido;;No;126.73;142.46\n",
      "01/07/2020;Movimiento sin categoría;Transacción entre cuentas de ahorro;Traspaso recibido Cuenta Nómina;;No;53.12;15.73\n",
      "01/07/2020;Movimiento sin categoría;Transacción entre cuentas de ahorro;Traspaso recibido Cuenta Nómina;;No;161.88;-37.39\n",
      "01/07/2020;Educación, salud y deporte;Seguro de salud;Recibo SANITAS S A  DE SEGUROS;;No;-131.80;-199.27\n",
      "01/07/2020;Movimiento sin categoría;Transacción entre cuentas de ahorro;Traspaso periódico recibido;;No;147.53;-67.47\n"
     ]
    }
   ],
   "source": [
    "archivo = open(\"ejercicio.csv\", \"r\")\n",
    "for linea in archivo.readlines():\n",
    "    print(linea.strip())\n",
    "archivo.close()"
   ]
  },
  {
   "cell_type": "markdown",
   "metadata": {
    "colab_type": "text",
    "id": "R6KM2u3HHFZc"
   },
   "source": [
    "##### tell => en que posición del archivo estamos en este momento"
   ]
  },
  {
   "cell_type": "code",
   "execution_count": 73,
   "metadata": {
    "colab": {},
    "colab_type": "code",
    "id": "RDti_GCOHGqf"
   },
   "outputs": [
    {
     "name": "stdout",
     "output_type": "stream",
     "text": [
      "0\n",
      "bytes leidos: '8'\n"
     ]
    }
   ],
   "source": [
    "archivo = open('ejercicio.csv', 'r+') \n",
    "print (archivo.tell())\n",
    "linea0 = archivo.readline()\n",
    "print(\"bytes leidos: '%d'\" % (archivo.tell()) )\n",
    "archivo.close()"
   ]
  },
  {
   "cell_type": "markdown",
   "metadata": {
    "colab_type": "text",
    "id": "O_tFxeYNHMPf"
   },
   "source": [
    "##### seek => Cambiar la posición del flujo al desplazamiento => saltar a un punto concreto de file"
   ]
  },
  {
   "cell_type": "code",
   "execution_count": 76,
   "metadata": {
    "colab": {},
    "colab_type": "code",
    "id": "HYGK7OhUHNiV"
   },
   "outputs": [
    {
     "name": "stdout",
     "output_type": "stream",
     "text": [
      "bytes leidos: '2755'\n",
      "bytes seek: '50'\n"
     ]
    }
   ],
   "source": [
    "archivo = open('ejercicio.csv', 'r') \n",
    "archivo.read()\n",
    "print(\"bytes leidos: '%d'\" % (archivo.tell()) )\n",
    "archivo.seek(50) # posicionamos en un punto concreto del archivo\n",
    "print(\"bytes seek: '%d'\" % (archivo.tell()) )\n",
    "archivo.close()"
   ]
  },
  {
   "cell_type": "markdown",
   "metadata": {
    "colab_type": "text",
    "id": "O_tFxeYNHMPf"
   },
   "source": [
    "##### seek => Cambiar la posición del flujo al desplazamiento => saltar a un punto concreto de file"
   ]
  },
  {
   "cell_type": "code",
   "execution_count": 80,
   "metadata": {
    "colab": {},
    "colab_type": "code",
    "id": "HYGK7OhUHNiV"
   },
   "outputs": [
    {
     "data": {
      "text/plain": [
       "';;;;;;;\\nMovimientos de la Cuenta;;  Número de cuenta:;ES22 1465 0100 91 1714750599;;;;\\n;;  Titular:;SONIA PATRICIA CELIS VASQUEZ;;;;\\n;;  Fecha exportación:;13/07/2020 12:46h;;;;\\n;;;;;;;\\nF. VALOR;CATEGORÍA;SUBCATEGORÍA;DESCRIPCIÓN;COMENTARIO;IMAGEN;IMPORTE (€);SALDO (€)\\n13/07/2020;Movimiento sin categoría;Transacción entre cuentas de ahorro;Traspaso recibido Cuenta Nómina;;No;40.08;56.05\\n13/07/2020;Movimiento sin categoría;Transacción entre cuentas de ahorro;Traspaso recibido Cuenta Nómina;;No;40.00;15.97\\n13/07/2020;Movimiento sin categoría;Transacción entre cuentas de ahorro;Traspaso recibido Cuenta Nómina;;No;41.35;-24.03\\n11/07/2020;Movimiento sin categoría;Transacción entre cuentas de ahorro;Traspaso periódico emitido nómina;;No;-126.73;-65.38\\n11/07/2020;Movimiento sin categoría;Transacción entre cuentas de ahorro;Traspaso periódico emitido nómina;;No;-590.00;61.35\\n11/07/2020;Movimiento sin categoría;Transacción entre cuentas de ahorro;Traspaso periódico emitido nómina;;No;-172.60;651.35\\n07/07/2020;Hogar;Teléfono, TV e internet;Recibo GRUPO MASMOVIL XFERA;;No;-41.35;823.95\\n06/07/2020;Otros gastos;Otros préstamos y avales;Recibo BANCO CETELEM, S.A.;;No;-348.25;865.30\\n06/07/2020;Otros gastos;Transferencias;Transferencia emitida periódica;;No;-590.00;1,213.55\\n04/07/2020;Ocio y viajes;Cafeterías y restaurantes;Pago en AL FONDO HAY SITIO TRES CANTOS 28;;No;-40.00;1,803.55\\n04/07/2020;Educación, salud y deporte;Farmacia;Pago en FARMACIA ALONSO TRES CANTOS ES;;No;-0.25;1,843.55\\n04/07/2020;Alimentación;Supermercados y alimentación;Pago en MERCADONA PLAZA DE LA ESTTRES CANTOS ES;;No;-40.08;1,843.80\\n04/07/2020;Movimiento sin categoría;Transacción entre cuentas de ahorro;Traspaso periódico recibido;;No;348.25;1,883.88\\n03/07/2020;Nómina y otras prestaciones;Prestación por desempleo;Abono prestación INEM;;No;954.69;1,535.63\\n03/07/2020;Otros gastos;Otros préstamos y avales;Cargo cuota de préstamo;;No;-147.53;580.94\\n03/07/2020;Movimiento sin categoría;Transacción entre cuentas de ahorro;Traspaso periódico recibido;;No;590.00;728.47\\n02/07/2020;;;Comisión Siempre Cubierto;;No;-3.99;138.47\\n02/07/2020;Movimiento sin categoría;Transacción entre cuentas de ahorro;Traspaso periódico recibido;;No;126.73;142.46\\n01/07/2020;Movimiento sin categoría;Transacción entre cuentas de ahorro;Traspaso recibido Cuenta Nómina;;No;53.12;15.73\\n01/07/2020;Movimiento sin categoría;Transacción entre cuentas de ahorro;Traspaso recibido Cuenta Nómina;;No;161.88;-37.39\\n01/07/2020;Educación, salud y deporte;Seguro de salud;Recibo SANITAS S A  DE SEGUROS;;No;-131.80;-199.27\\n01/07/2020;Movimiento sin categoría;Transacción entre cuentas de ahorro;Traspaso periódico recibido;;No;147.53;-67.47\\n'"
      ]
     },
     "execution_count": 80,
     "metadata": {},
     "output_type": "execute_result"
    }
   ],
   "source": [
    "archivo = open('ejercicio.csv', 'r') \n",
    "archivo.read()"
   ]
  },
  {
   "cell_type": "code",
   "execution_count": 83,
   "metadata": {},
   "outputs": [
    {
     "data": {
      "text/plain": [
       "''"
      ]
     },
     "execution_count": 83,
     "metadata": {},
     "output_type": "execute_result"
    }
   ],
   "source": [
    "archivo.read() # Aquí ya estoy al final del fichero y no devuelvo nada, por lo tanto"
   ]
  },
  {
   "cell_type": "code",
   "execution_count": 86,
   "metadata": {},
   "outputs": [
    {
     "name": "stdout",
     "output_type": "stream",
     "text": [
      "bytes seek: '0'\n",
      "bytes leidos: '2755'\n"
     ]
    }
   ],
   "source": [
    "archivo.seek(0) # posicionamos en el inicio para poder leer el fichero\n",
    "print(\"bytes seek: '%d'\" % (archivo.tell()) )\n",
    "archivo.read() \n",
    "print(\"bytes leidos: '%d'\" % (archivo.tell()) )\n",
    "archivo.close()"
   ]
  },
  {
   "cell_type": "markdown",
   "metadata": {
    "colab_type": "text",
    "id": "jEcFMfnkHSJd"
   },
   "source": [
    "##### write => escritura y lectura , crea si NO existe y Reescribe si existe"
   ]
  },
  {
   "cell_type": "code",
   "execution_count": 96,
   "metadata": {
    "colab": {},
    "colab_type": "code",
    "id": "pE9BXUpRHTTc"
   },
   "outputs": [],
   "source": [
    "archivo = open(\"myFileW.xls\",'w+')\n",
    "archivo.write(' ..eStE ES un Fichero que he creado en modo w+ con [pocos] caracteres ...    ')\n",
    "archivo.close()\n"
   ]
  },
  {
   "cell_type": "code",
   "execution_count": 97,
   "metadata": {
    "colab": {},
    "colab_type": "code",
    "id": "pE9BXUpRHTTc"
   },
   "outputs": [],
   "source": [
    "archivo = open(\"myFileW.xls\",'w+')\n",
    "archivo.write(' como ya existe el fichero, no lo crea pero lo Reescribe.    ')\n",
    "archivo.close()\n"
   ]
  },
  {
   "cell_type": "markdown",
   "metadata": {
    "colab_type": "text",
    "id": "jEcFMfnkHSJd"
   },
   "source": [
    "##### write => escritura y lectura , crea si NO existe y lo Actualiza si existe"
   ]
  },
  {
   "cell_type": "code",
   "execution_count": 102,
   "metadata": {
    "colab": {},
    "colab_type": "code",
    "id": "pE9BXUpRHTTc"
   },
   "outputs": [],
   "source": [
    "archivo = open(\"myFileA.xls\",'a+')\n",
    "archivo.write(' ..eStE ES un Fichero que he creado en modo a+ con [pocos] caracteres ...  \\n  ')\n",
    "archivo.close()\n"
   ]
  },
  {
   "cell_type": "code",
   "execution_count": 103,
   "metadata": {
    "colab": {},
    "colab_type": "code",
    "id": "pE9BXUpRHTTc"
   },
   "outputs": [],
   "source": [
    "archivo = open(\"myFileA.xls\",'a+')\n",
    "archivo.write(' como ya existe el fichero, lo Actualiza.    ')\n",
    "archivo.close()\n"
   ]
  },
  {
   "cell_type": "markdown",
   "metadata": {
    "colab_type": "text",
    "id": "n0i2JjR2HeNb"
   },
   "source": [
    "##### flush => guarda todos los read que tenga pendiente antes de cerrar el fichero"
   ]
  },
  {
   "cell_type": "code",
   "execution_count": 111,
   "metadata": {
    "colab": {},
    "colab_type": "code",
    "id": "N2guYcFkHfhq"
   },
   "outputs": [
    {
     "data": {
      "text/plain": [
       "24"
      ]
     },
     "execution_count": 111,
     "metadata": {},
     "output_type": "execute_result"
    }
   ],
   "source": [
    "archivo = open(\"myFileAFlush.xls\",'a+')\n",
    "archivo.write('cadena para flushear01 \\n')"
   ]
  },
  {
   "cell_type": "code",
   "execution_count": 112,
   "metadata": {
    "colab": {},
    "colab_type": "code",
    "id": "6VX34OlPHiti"
   },
   "outputs": [],
   "source": [
    "archivo.flush()"
   ]
  },
  {
   "cell_type": "code",
   "execution_count": 0,
   "metadata": {
    "colab": {},
    "colab_type": "code",
    "id": "N2guYcFkHfhq"
   },
   "outputs": [],
   "source": [
    "archivo = open(\"myFileAFlush.xls\",'a+')\n",
    "archivo.write('cadena para flushear')"
   ]
  },
  {
   "cell_type": "code",
   "execution_count": 113,
   "metadata": {
    "colab": {},
    "colab_type": "code",
    "id": "N2guYcFkHfhq"
   },
   "outputs": [
    {
     "data": {
      "text/plain": [
       "24"
      ]
     },
     "execution_count": 113,
     "metadata": {},
     "output_type": "execute_result"
    }
   ],
   "source": [
    "archivo.write('cadena para flushear02 \\n')"
   ]
  },
  {
   "cell_type": "code",
   "execution_count": 114,
   "metadata": {
    "colab": {},
    "colab_type": "code",
    "id": "6VX34OlPHiti"
   },
   "outputs": [],
   "source": [
    "archivo.flush()"
   ]
  },
  {
   "cell_type": "code",
   "execution_count": 115,
   "metadata": {
    "colab": {},
    "colab_type": "code",
    "id": "N2guYcFkHfhq"
   },
   "outputs": [
    {
     "data": {
      "text/plain": [
       "24"
      ]
     },
     "execution_count": 115,
     "metadata": {},
     "output_type": "execute_result"
    }
   ],
   "source": [
    "archivo.write('cadena para flushear03 \\n')"
   ]
  },
  {
   "cell_type": "code",
   "execution_count": 122,
   "metadata": {
    "colab": {},
    "colab_type": "code",
    "id": "mXAEc42PHlNG"
   },
   "outputs": [],
   "source": [
    "archivo.close()"
   ]
  },
  {
   "cell_type": "markdown",
   "metadata": {
    "colab_type": "text",
    "id": "JlOkYb-JHqwj"
   },
   "source": [
    "##### with open => apertura normal pero si hay una incidencia nos aseguramos de que al salir del with se cierre"
   ]
  },
  {
   "cell_type": "code",
   "execution_count": 141,
   "metadata": {
    "colab": {},
    "colab_type": "code",
    "id": "OemRqtUfHsXb"
   },
   "outputs": [
    {
     "name": "stdout",
     "output_type": "stream",
     "text": [
      "dentro del with open\n",
      "fuera del with open\n"
     ]
    }
   ],
   "source": [
    "with open(\"myFileRwithOpen.xls\",'w') as archivo:\n",
    "    archivo.write('cadena para escribir dentro del with open \\n')   \n",
    "    #'''-!!Cuando haya una incidencia aquí..\n",
    "    #    no se ejecutará nada por lo tanto nos aseguraremos\n",
    "    #    que el archivo se cierre fuera del with open-'''\n",
    "    print(\"dentro del with open\")\n",
    "archivo.write('cadena para escribir fuera del with open \\n')\n",
    "print(\"fuera del with open\")"
   ]
  },
  {
   "cell_type": "code",
   "execution_count": 142,
   "metadata": {
    "colab": {},
    "colab_type": "code",
    "id": "1H7_fydqFWNF"
   },
   "outputs": [
    {
     "data": {
      "text/plain": [
       "'/home/hadoop/python/SC.Code/edX/pythonMoocCompanion-master'"
      ]
     },
     "execution_count": 142,
     "metadata": {},
     "output_type": "execute_result"
    }
   ],
   "source": [
    "import os\n",
    "os.getcwd()"
   ]
  },
  {
   "cell_type": "code",
   "execution_count": null,
   "metadata": {},
   "outputs": [],
   "source": []
  }
 ],
 "metadata": {
  "colab": {
   "authorship_tag": "ABX9TyPZJ4hZNCJ4FI7OcGhEXz5B",
   "name": "pythonUPVX38.ipynb",
   "provenance": []
  },
  "kernelspec": {
   "display_name": "Python 3",
   "language": "python",
   "name": "python3"
  },
  "language_info": {
   "codemirror_mode": {
    "name": "ipython",
    "version": 3
   },
   "file_extension": ".py",
   "mimetype": "text/x-python",
   "name": "python",
   "nbconvert_exporter": "python",
   "pygments_lexer": "ipython3",
   "version": "3.7.4"
  }
 },
 "nbformat": 4,
 "nbformat_minor": 1
}
