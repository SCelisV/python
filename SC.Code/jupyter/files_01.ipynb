{
 "cells": [
  {
   "cell_type": "markdown",
   "metadata": {
    "colab_type": "text",
    "id": "BIDvy65zKsBA"
   },
   "source": [
    "#### contar las lineas que tiene el archivo ejercicio.csv"
   ]
  },
  {
   "cell_type": "code",
   "execution_count": 1,
   "metadata": {
    "colab": {},
    "colab_type": "code",
    "id": "h8fRv9W0Jw4w"
   },
   "outputs": [
    {
     "name": "stdout",
     "output_type": "stream",
     "text": [
      "El fichero contiene: 28 líneas\n"
     ]
    }
   ],
   "source": [
    "file = open(\"ejercicio.csv\", \"r\")\n",
    "count = 0\n",
    "for linea in file.readlines():\n",
    "    count = count + 1\n",
    "print(\"El fichero contiene: %d líneas\" %(count))\n",
    "file.close()"
   ]
  },
  {
   "cell_type": "markdown",
   "metadata": {
    "colab_type": "text",
    "id": "KCUyHCjNNJeH"
   },
   "source": [
    "## Modificar el fichero y recuperar cada campo de cada línea del fichero\n",
    "\n",
    "Modifica el ejercicio anterior para separar el fichero en campos que indicarán lo siguiente:\n",
    "\n",
    "encabezado => compuesto por las 5 primeras líneas => en cada línea los campos estan separados por \";\", Se deberá recuperar la siguiente información para la cabecera\n",
    "\n",
    "    Movimientos de la Cuenta;\n",
    "    Número de cuenta:;\n",
    "    ES22 1465 0100 91 1714750599;\n",
    "    Titular:;\n",
    "    SONIA PATRICIA CELIS VASQUEZ;\n",
    "    Fecha exportación:;\n",
    "    13/07/2020 12:46h;\n",
    "\n",
    "campos => Nombre de los campos que vienen informados en el fichero y estan separados por \";\"\n",
    "\n",
    "    F. VALOR;\n",
    "    CATEGORÍA;\n",
    "    SUBCATEGORÍA;\n",
    "    DESCRIPCIÓN;\n",
    "    COMENTARIO;\n",
    "    IMAGEN;\n",
    "    IMPORTE (€);\n",
    "    SALDO (€)\n",
    " \n",
    "cuerpo => lista de líneas, información de cada campo, los campos estan separados por \";\"\n",
    "\n",
    "    13/07/2020;\n",
    "    Movimiento sin categoría;\n",
    "    Transacción entre cuentas de ahorro;\n",
    "    Traspaso recibido Cuenta Nómina;\n",
    "    ;\n",
    "    No;\n",
    "    40.08;\n",
    "    56.05\n"
   ]
  },
  {
   "cell_type": "code",
   "execution_count": 2,
   "metadata": {
    "colab": {},
    "colab_type": "code",
    "id": "WqeEqT_oNf7N"
   },
   "outputs": [
    {
     "ename": "SyntaxError",
     "evalue": "invalid character in identifier (<ipython-input-2-ab28f86b322a>, line 19)",
     "output_type": "error",
     "traceback": [
      "\u001b[0;36m  File \u001b[0;32m\"<ipython-input-2-ab28f86b322a>\"\u001b[0;36m, line \u001b[0;32m19\u001b[0m\n\u001b[0;31m    Importe (€);\u001b[0m\n\u001b[0m             ^\u001b[0m\n\u001b[0;31mSyntaxError\u001b[0m\u001b[0;31m:\u001b[0m invalid character in identifier\n"
     ]
    }
   ],
   "source": [
    "# -O-J-O- files_01.py en repl.it\n",
    "\n",
    "file = open(\"ejercicio.csv\", \"r\")\n",
    "file.read()\n",
    "count = 0\n",
    "\n",
    "\n",
    "\n",
    "\n",
    "print(\"El fichero contiene: %d líneas\" %(count))\n",
    "file.close()\n",
    "\n",
    "\n",
    "Cat;\n",
    "Sub;\n",
    "Desc;\n",
    "Comment;\n",
    "Img;\n",
    "Importe (€);\n",
    "Saldo (€)"
   ]
  },
  {
   "cell_type": "markdown",
   "metadata": {
    "colab_type": "text",
    "id": "_4neVtyEPkFt"
   },
   "source": [
    "## Filtrar por palabras\n",
    "Programa que recibe dos parametros el (\"Nombre de archivo\") en el cual va a buscar una (\"Palabra\"). camelCase"
   ]
  },
  {
   "cell_type": "code",
   "execution_count": 56,
   "metadata": {
    "colab_type": "text",
    "id": "96XCB7zFOJUT"
   },
   "outputs": [],
   "source": [
    "def valida (entrada):\n",
    "    valido = False\n",
    "    if (len(str(entrada)) != 0):\n",
    "        valido = True\n",
    "    return valido"
   ]
  },
  {
   "cell_type": "code",
   "execution_count": 57,
   "metadata": {
    "colab_type": "text",
    "id": "96XCB7zFOJUT"
   },
   "outputs": [
    {
     "name": "stdout",
     "output_type": "stream",
     "text": [
      "Nombre del fichero: ejercicio.csv\n",
      "True\n"
     ]
    }
   ],
   "source": [
    "nameFile = input(\"Nombre del fichero: \")   \n",
    "oK_File = valida(nameFile) \n",
    "#print (oK_File)"
   ]
  },
  {
   "cell_type": "code",
   "execution_count": 58,
   "metadata": {
    "colab_type": "text",
    "id": "96XCB7zFOJUT"
   },
   "outputs": [
    {
     "name": "stdout",
     "output_type": "stream",
     "text": [
      "Tipo de movimiento: Transacción\n",
      "True\n"
     ]
    }
   ],
   "source": [
    "palabra = input(\"Tipo de movimiento: \")\n",
    "oK_Word = valida(palabra)\n",
    "#print (oK_Word)"
   ]
  },
  {
   "cell_type": "code",
   "execution_count": 61,
   "metadata": {
    "colab_type": "text",
    "id": "96XCB7zFOJUT"
   },
   "outputs": [],
   "source": [
    "def proceso(nameFile, palabra):\n",
    "    try:\n",
    "        file = open(nameFile, \"r\")\n",
    "        count = 0\n",
    "        for linea in file.readlines():\n",
    "             if palabra in linea:\n",
    "                #print(linea.strip())\n",
    "                count = count + 1       \n",
    "        print(\"El fichero: %s contiene: %d veces la palabra: %s\"  %(nameFile,count,palabra))\n",
    "        file.close()\n",
    "\n",
    "    except Exception as e:\n",
    "        print('Intentalo de nuevo, el fichero: %s no existe:' %(nameFile) ,str(e))"
   ]
  },
  {
   "cell_type": "code",
   "execution_count": 62,
   "metadata": {
    "colab_type": "text",
    "id": "96XCB7zFOJUT"
   },
   "outputs": [
    {
     "name": "stdout",
     "output_type": "stream",
     "text": [
      "El fichero: ejercicio.csv contiene: 12 veces la palabra: Transacción\n"
     ]
    }
   ],
   "source": [
    "if  (oK_File & oK_Word):\n",
    "    proceso (nameFile, palabra)\n",
    "elif (oK_File):\n",
    "    print('\\\"%s\\\", es un Tipo de movimiento INvalido: por favor intentalo de nuevo' %(palabra))\n",
    "elif (oK_Word):\n",
    "    print('\\\"%s\\\", es un nombre de Fichero INvalido: por favor intentalo de nuevo' %(nameFile))\n",
    "else:\n",
    "    print('\\\"%s\\\", \\\"%s\\\",  Invalidos: por favor intentalo de nuevo' %(nameFile, palabra))\n"
   ]
  },
  {
   "cell_type": "markdown",
   "metadata": {
    "colab_type": "text",
    "id": "_4neVtyEPkFt"
   },
   "source": [
    "## SELECCIONAR ARCHIVOS\n",
    "Programa que permite seleccionar el archivo a utilizar para contar las líneas usando el comando input."
   ]
  },
  {
   "cell_type": "code",
   "execution_count": null,
   "metadata": {},
   "outputs": [],
   "source": [
    "nameFile = input(\"Nombre del fichero: \")\n",
    "file = open(nameFile, \"r\")\n",
    "count = 0\n",
    "for linea in file.readlines():\n",
    "    count = count + 1\n",
    "print(\"El fichero contiene: %d líneas\" %(count))\n",
    "file.close()"
   ]
  },
  {
   "cell_type": "markdown",
   "metadata": {
    "colab_type": "text",
    "id": "neeUhNlmQaYP"
   },
   "source": [
    "### Control de ERRORES\n",
    "Incluye el control de errores si el fichero no existe."
   ]
  },
  {
   "cell_type": "code",
   "execution_count": 63,
   "metadata": {
    "colab": {},
    "colab_type": "code",
    "id": "oYRMRHByQvr5"
   },
   "outputs": [
    {
     "name": "stdout",
     "output_type": "stream",
     "text": [
      "Nombre del fichero: 213\n",
      "Intentalo de nuevo, el fichero: 213 no existe: [Errno 2] No such file or directory: '213'\n"
     ]
    }
   ],
   "source": [
    "nameFile = input(\"Nombre del fichero: \")\n",
    "try:\n",
    "    file = open(nameFile, \"r\")\n",
    "    count = 0\n",
    "    for linea in file.readlines():\n",
    "        count = count + 1\n",
    "    print(\"El fichero: %s contiene: %d líneas\"  %(nameFile,count))\n",
    "    file.close()\n",
    "\n",
    "except Exception as e:\n",
    "    print('Intentalo de nuevo, el fichero: %s no existe:' %(nameFile) ,str(e))"
   ]
  },
  {
   "cell_type": "markdown",
   "metadata": {
    "colab_type": "text",
    "id": "neeUhNlmQaYP"
   },
   "source": [
    "### Cuenta palabras\n",
    "Cuenta las palabras del fichero"
   ]
  },
  {
   "cell_type": "code",
   "execution_count": null,
   "metadata": {},
   "outputs": [],
   "source": [
    "nameFile = input(\"Nombre del fichero: \")\n",
    "try:\n",
    "    file = open(nameFile, \"r\")\n",
    "    count = 0\n",
    "    for linea in file.readlines():\n",
    "        #print(linea)\n",
    "        for palabra in linea.split(';'):\n",
    "            count = count + 1\n",
    "            #campo = str(palabra)\n",
    "            #crea fichero\n",
    "        #print(count)    \n",
    "    print(\"El fichero: %s contiene: %d palabras\"  %(nameFile,count))\n",
    "    file.close()\n",
    "\n",
    "except Exception as e:\n",
    "    print('Intentalo de nuevo, el fichero: %s no existe:' %(nameFile) ,str(e))"
   ]
  }
 ],
 "metadata": {
  "colab": {
   "authorship_tag": "ABX9TyNpmDRGKGvoYfkVgFZWxGdy",
   "name": "pythonUPVX39.ipynb",
   "provenance": []
  },
  "kernelspec": {
   "display_name": "Python 3",
   "language": "python",
   "name": "python3"
  },
  "language_info": {
   "codemirror_mode": {
    "name": "ipython",
    "version": 3
   },
   "file_extension": ".py",
   "mimetype": "text/x-python",
   "name": "python",
   "nbconvert_exporter": "python",
   "pygments_lexer": "ipython3",
   "version": "3.7.4"
  }
 },
 "nbformat": 4,
 "nbformat_minor": 1
}
