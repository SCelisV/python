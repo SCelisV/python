{
 "cells": [
  {
   "cell_type": "markdown",
   "metadata": {
    "colab_type": "text",
    "id": "Wt8mhDgrF4wo"
   },
   "source": [
    "# Contextos"
   ]
  },
  {
   "cell_type": "markdown",
   "metadata": {
    "colab": {},
    "colab_type": "code",
    "id": "RouMwVWqF6_s"
   },
   "source": [
    "Variables Globales son las que están Definidas fuera de las funciones\n"
   ]
  },
  {
   "cell_type": "code",
   "execution_count": 1,
   "metadata": {
    "colab": {},
    "colab_type": "code",
    "id": "RouMwVWqF6_s"
   },
   "outputs": [],
   "source": [
    "variableGlobal = 7"
   ]
  },
  {
   "cell_type": "markdown",
   "metadata": {
    "colab": {},
    "colab_type": "code",
    "id": "RouMwVWqF6_s"
   },
   "source": [
    "Variables Locales definidas dentro del contexto de la función"
   ]
  },
  {
   "cell_type": "code",
   "execution_count": 2,
   "metadata": {
    "colab": {},
    "colab_type": "code",
    "id": "RElrqLvIJCRY"
   },
   "outputs": [],
   "source": [
    "def contextoDefuncion(parametro):\n",
    "  variable = 10\n",
    "  print(f'la variable Global es: {variableGlobal}')\n",
    "  print(f'el valor de la variable Local es: {variable}')\n",
    "  print(f'y el parámetro con el que hemos llamado a la función es: {parametro}')"
   ]
  },
  {
   "cell_type": "code",
   "execution_count": 3,
   "metadata": {
    "colab": {},
    "colab_type": "code",
    "id": "cywnpZk2JwDa"
   },
   "outputs": [
    {
     "name": "stdout",
     "output_type": "stream",
     "text": [
      "la variable Global es: 7\n",
      "el valor de la variable Local es: 10\n",
      "y el parámetro con el que hemos llamado a la función es: parametroDeentrada\n"
     ]
    }
   ],
   "source": [
    "contextoDefuncion('parametroDeentrada')"
   ]
  },
  {
   "cell_type": "code",
   "execution_count": 4,
   "metadata": {
    "colab": {},
    "colab_type": "code",
    "id": "VG25OudIKB4K"
   },
   "outputs": [
    {
     "name": "stdout",
     "output_type": "stream",
     "text": [
      "la variable global es: 7\n"
     ]
    }
   ],
   "source": [
    "print(f'la variable global es: {variableGlobal}')"
   ]
  },
  {
   "cell_type": "code",
   "execution_count": 5,
   "metadata": {
    "colab": {},
    "colab_type": "code",
    "id": "PgbWnz_hKImy"
   },
   "outputs": [
    {
     "ename": "NameError",
     "evalue": "name 'parametro' is not defined",
     "output_type": "error",
     "traceback": [
      "\u001b[0;31m---------------------------------------------------------------------------\u001b[0m",
      "\u001b[0;31mNameError\u001b[0m                                 Traceback (most recent call last)",
      "\u001b[0;32m<ipython-input-5-888f377b2165>\u001b[0m in \u001b[0;36m<module>\u001b[0;34m\u001b[0m\n\u001b[1;32m      1\u001b[0m \u001b[0;31m# Esto dará un error porque no existen fuera de la función\u001b[0m\u001b[0;34m\u001b[0m\u001b[0;34m\u001b[0m\u001b[0;34m\u001b[0m\u001b[0m\n\u001b[0;32m----> 2\u001b[0;31m \u001b[0mprint\u001b[0m\u001b[0;34m(\u001b[0m\u001b[0;34mf'y el parámetro con el que hemos llamado a la función es: {parametro}'\u001b[0m\u001b[0;34m)\u001b[0m\u001b[0;34m\u001b[0m\u001b[0;34m\u001b[0m\u001b[0m\n\u001b[0m\u001b[1;32m      3\u001b[0m \u001b[0mprint\u001b[0m\u001b[0;34m(\u001b[0m\u001b[0;34mf'el valor de la variable Local es: {variable}'\u001b[0m\u001b[0;34m)\u001b[0m\u001b[0;34m\u001b[0m\u001b[0;34m\u001b[0m\u001b[0m\n",
      "\u001b[0;31mNameError\u001b[0m: name 'parametro' is not defined"
     ]
    }
   ],
   "source": [
    "# Esto dará un error porque no existen fuera de la función\n",
    "print(f'y el parámetro con el que hemos llamado a la función es: {parametro}')\n",
    "print(f'el valor de la variable Local es: {variable}')"
   ]
  },
  {
   "cell_type": "markdown",
   "metadata": {
    "colab_type": "text",
    "id": "ioV_sBAjKTsH"
   },
   "source": [
    "Se pueden modificar variables globales dentro de funciones usando el indicador **global**"
   ]
  },
  {
   "cell_type": "code",
   "execution_count": null,
   "metadata": {
    "colab": {},
    "colab_type": "code",
    "id": "KEvI7GLLN5Rf"
   },
   "outputs": [],
   "source": [
    "def usarVariableGlobal():\n",
    "  print(f'la variable Global es: {variableGlobal}')"
   ]
  },
  {
   "cell_type": "code",
   "execution_count": null,
   "metadata": {},
   "outputs": [],
   "source": [
    "usarVariableGlobal()"
   ]
  },
  {
   "cell_type": "markdown",
   "metadata": {},
   "source": [
    "Si quiero modificar esta variable global"
   ]
  },
  {
   "cell_type": "code",
   "execution_count": null,
   "metadata": {},
   "outputs": [],
   "source": [
    "def modificarVariableGlobal(parametro):\n",
    "    global variableGlobal\n",
    "    print(f'la variable Global es: {variableGlobal}')\n",
    "    print(f'y el parámetro con el que vamos a llamar a la función es: {parametro}')  \n",
    "    variableGlobal = variableGlobal + parametro\n",
    "    print(f'Sumandole el parámetro {parametro}, la variable Global ahora es: {variableGlobal}')"
   ]
  },
  {
   "cell_type": "code",
   "execution_count": null,
   "metadata": {},
   "outputs": [],
   "source": [
    "modificarVariableGlobal(7)\n",
    "print(f'la variable Global es: {variableGlobal}')"
   ]
  },
  {
   "cell_type": "markdown",
   "metadata": {
    "colab_type": "text",
    "id": "2ADSOUvlN4mI"
   },
   "source": [
    "## Return"
   ]
  },
  {
   "attachments": {},
   "cell_type": "markdown",
   "metadata": {},
   "source": [
    "O-J-O- :/ No me acuerdo para que erá esto: Type Markdown and LaTeX: 𝛼2"
   ]
  },
  {
   "cell_type": "code",
   "execution_count": null,
   "metadata": {
    "colab": {},
    "colab_type": "code",
    "id": "6Wqd2m3ROCFP"
   },
   "outputs": [],
   "source": [
    "#no puedo acceder al valor de la suma ya que no lo he almacenado en ninguna parte\n",
    "print(sum([3,6]))"
   ]
  },
  {
   "cell_type": "code",
   "execution_count": null,
   "metadata": {
    "colab": {},
    "colab_type": "code",
    "id": "6Wqd2m3ROCFP"
   },
   "outputs": [],
   "source": [
    "#El resultado de la función suma está almacenado en la variable numero\n",
    "numero = sum([3,6])\n",
    "print(numero)"
   ]
  },
  {
   "cell_type": "markdown",
   "metadata": {},
   "source": [
    "**Return**"
   ]
  },
  {
   "cell_type": "code",
   "execution_count": null,
   "metadata": {
    "colab": {},
    "colab_type": "code",
    "id": "SzRLbPPFOQn9"
   },
   "outputs": [],
   "source": [
    "def suma(num1,num2):\n",
    "  total = num1 + num2\n",
    "  return total"
   ]
  },
  {
   "cell_type": "code",
   "execution_count": null,
   "metadata": {
    "colab": {},
    "colab_type": "code",
    "id": "74ASAqgbOcbT"
   },
   "outputs": [],
   "source": [
    "numero = suma(5,7)\n",
    "print(numero)"
   ]
  },
  {
   "cell_type": "markdown",
   "metadata": {},
   "source": [
    "se pueden devolver varios datos separados por , **No es aconsejable**"
   ]
  },
  {
   "cell_type": "markdown",
   "metadata": {},
   "source": [
    "**Return,** finaliza la ejecución"
   ]
  },
  {
   "cell_type": "code",
   "execution_count": null,
   "metadata": {
    "colab": {},
    "colab_type": "code",
    "id": "SzRLbPPFOQn9"
   },
   "outputs": [],
   "source": [
    "def suma(num1,num2):\n",
    "  total = num1 + num2\n",
    "  return total, 'return este texto', num1, num2\n",
    "\n",
    "\n",
    "#Tódo lo que está después del return no se ejecuta\n",
    "#print (\"esto no se ejecuta porque esta después del return\")"
   ]
  },
  {
   "cell_type": "code",
   "execution_count": null,
   "metadata": {
    "colab": {},
    "colab_type": "code",
    "id": "74ASAqgbOcbT"
   },
   "outputs": [],
   "source": [
    "numero = suma(4,8)\n",
    "print(numero)\n",
    "type(numero)"
   ]
  }
 ],
 "metadata": {
  "colab": {
   "name": "pythonUPVX29.ipynb",
   "provenance": [
    {
     "file_id": "1FcD2unoZ3WY8tS4ChKxwBBzbH8nTyIJu",
     "timestamp": 1576842310766
    }
   ]
  },
  "kernelspec": {
   "display_name": "Python 3",
   "language": "python",
   "name": "python3"
  },
  "language_info": {
   "codemirror_mode": {
    "name": "ipython",
    "version": 3
   },
   "file_extension": ".py",
   "mimetype": "text/x-python",
   "name": "python",
   "nbconvert_exporter": "python",
   "pygments_lexer": "ipython3",
   "version": "3.7.4"
  }
 },
 "nbformat": 4,
 "nbformat_minor": 1
}
