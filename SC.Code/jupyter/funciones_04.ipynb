{
 "cells": [
  {
   "cell_type": "markdown",
   "metadata": {},
   "source": [
    "**reinicia el kernel** (en la barra de menu, selecciona Kernel$\\rightarrow$Restart) then\n",
    "**ejecuta todas las celdas** Cell$\\rightarrow$Run All)."
   ]
  },
  {
   "cell_type": "markdown",
   "metadata": {},
   "source": [
    "### Enunciado de problema:\n",
    "\n",
    "Escribe una función **enelmedio** que dadas dos cadenas nos devuelva una sola cadena de modo que la segunda quede en el medio de la primera tal y como se muestra en los ejemplos.\n",
    "\n",
    "Ejemplo:\n",
    "\n",
    "- enelmedio('[::]','polipo')\n",
    "- -> '[:polipo:]'\n",
    "- enelmedio('rocodromo','XXX')\n",
    "- -> 'rocoXXXdromo'\n",
    "- enelmedio('-:..:-','Título')\n",
    "- -> '-:.Título.:-'"
   ]
  },
  {
   "cell_type": "code",
   "execution_count": 55,
   "metadata": {},
   "outputs": [],
   "source": [
    "#Definición de la función - One Way\n",
    "def enelmedio(cadena01, cadena02):\n",
    "    medio = int(len(cadena01)/2)\n",
    "    #print(medio)\n",
    "    result = cadena01[0:medio]+cadena02+cadena01[medio:]\n",
    "    #print (result)\n",
    "    print(f'la cadena uno es: {cadena01}, y la cadena dos es: {cadena02}; por tanto el resultado es: {result}')\n",
    "    print(\"La cadena uno es: %s, y la cadena dos es: %s; por tanto el resultado es: %s\" % (cadena01, cadena02, result))\n",
    "    return result\n",
    "\n",
    "\n",
    "\n",
    "\n"
   ]
  },
  {
   "cell_type": "code",
   "execution_count": 56,
   "metadata": {},
   "outputs": [
    {
     "name": "stdout",
     "output_type": "stream",
     "text": [
      "la cadena uno es: SoniaCelis, y la cadena dos es: EllioT; por tanto el resultado es: SoniaEllioTCelis\n",
      "La cadena uno es: SoniaCelis, y la cadena dos es: EllioT; por tanto el resultado es: SoniaEllioTCelis\n",
      "la cadena uno es: [::], y la cadena dos es: polipo; por tanto el resultado es: [:polipo:]\n",
      "La cadena uno es: [::], y la cadena dos es: polipo; por tanto el resultado es: [:polipo:]\n",
      "la cadena uno es: rocodromo, y la cadena dos es: XXX; por tanto el resultado es: rocoXXXdromo\n",
      "La cadena uno es: rocodromo, y la cadena dos es: XXX; por tanto el resultado es: rocoXXXdromo\n",
      "la cadena uno es: -:..:-, y la cadena dos es: Título; por tanto el resultado es: -:.Título.:-\n",
      "La cadena uno es: -:..:-, y la cadena dos es: Título; por tanto el resultado es: -:.Título.:-\n"
     ]
    },
    {
     "data": {
      "text/plain": [
       "'-:.Título.:-'"
      ]
     },
     "execution_count": 56,
     "metadata": {},
     "output_type": "execute_result"
    }
   ],
   "source": [
    "cadena_01 = \"SoniaCelis\"\n",
    "cadena_02 = \"EllioT\"\n",
    "enelmedio(cadena_01, cadena_02)\n",
    "enelmedio('[::]','polipo')\n",
    "enelmedio('rocodromo','XXX')\n",
    "enelmedio('-:..:-','Título')"
   ]
  },
  {
   "cell_type": "markdown",
   "metadata": {},
   "source": [
    "<details>\n",
    "<summary>Otra forma</summary>\n",
    "</details>"
   ]
  },
  {
   "cell_type": "code",
   "execution_count": 50,
   "metadata": {},
   "outputs": [],
   "source": [
    "def enelmedio(primera,segunda):\n",
    "    mitad = len(primera)//2\n",
    "    principio = primera[:mitad]\n",
    "    final = primera[mitad:]\n",
    "    resultado = principio+segunda+final\n",
    "    print(f'el resultado de tu llamada es {resultado}')\n",
    "    return resultado"
   ]
  },
  {
   "cell_type": "code",
   "execution_count": 51,
   "metadata": {},
   "outputs": [
    {
     "name": "stdout",
     "output_type": "stream",
     "text": [
      "el resultado de tu llamada es SoniaEllioTCelis\n",
      "el resultado de tu llamada es [:polipo:]\n",
      "el resultado de tu llamada es rocoXXXdromo\n",
      "el resultado de tu llamada es -:.Título.:-\n"
     ]
    },
    {
     "data": {
      "text/plain": [
       "'-:.Título.:-'"
      ]
     },
     "execution_count": 51,
     "metadata": {},
     "output_type": "execute_result"
    }
   ],
   "source": [
    "cadena_01 = \"SoniaCelis\"\n",
    "cadena_02 = \"EllioT\"\n",
    "enelmedio(cadena_01, cadena_02)\n",
    "enelmedio('[::]','polipo')\n",
    "enelmedio('rocodromo','XXX')\n",
    "enelmedio('-:..:-','Título')"
   ]
  },
  {
   "cell_type": "code",
   "execution_count": 57,
   "metadata": {},
   "outputs": [],
   "source": [
    "def saludar(lang):\n",
    "    saludo = 'Hello'\n",
    "    if (lang == 'es'):\n",
    "        saludo = 'Hola'\n",
    "    elif (lang == 'fr'):\n",
    "        saludo = 'Bonjour'\n",
    "    return saludo"
   ]
  },
  {
   "cell_type": "code",
   "execution_count": 58,
   "metadata": {},
   "outputs": [
    {
     "name": "stdout",
     "output_type": "stream",
     "text": [
      "Como te llamas?: Sonia\n",
      "Hello Sonia\n",
      "Bonjour Sonia\n",
      "Hola Sonia\n",
      "Hello Sonia\n"
     ]
    }
   ],
   "source": [
    "        \n",
    "sName = input ('Como te llamas?: ')\n",
    "print(saludar('en'), sName)\n",
    "print(saludar('fr'), sName)\n",
    "print(saludar('es'), sName)\n",
    "print(saludar(''), sName)"
   ]
  }
 ],
 "metadata": {
  "kernelspec": {
   "display_name": "Python 3",
   "language": "python",
   "name": "python3"
  },
  "language_info": {
   "codemirror_mode": {
    "name": "ipython",
    "version": 3
   },
   "file_extension": ".py",
   "mimetype": "text/x-python",
   "name": "python",
   "nbconvert_exporter": "python",
   "pygments_lexer": "ipython3",
   "version": "3.7.4"
  },
  "varInspector": {
   "cols": {
    "lenName": 16,
    "lenType": 16,
    "lenVar": 40
   },
   "kernels_config": {
    "python": {
     "delete_cmd_postfix": "",
     "delete_cmd_prefix": "del ",
     "library": "var_list.py",
     "varRefreshCmd": "print(var_dic_list())"
    },
    "r": {
     "delete_cmd_postfix": ") ",
     "delete_cmd_prefix": "rm(",
     "library": "var_list.r",
     "varRefreshCmd": "cat(var_dic_list()) "
    }
   },
   "types_to_exclude": [
    "module",
    "function",
    "builtin_function_or_method",
    "instance",
    "_Feature"
   ],
   "window_display": false
  }
 },
 "nbformat": 4,
 "nbformat_minor": 2
}
