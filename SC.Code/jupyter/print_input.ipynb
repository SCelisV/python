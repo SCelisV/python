{
 "cells": [
  {
   "cell_type": "markdown",
   "metadata": {
    "colab_type": "text",
    "id": "v-qp9nPypLzj"
   },
   "source": [
    "## print()"
   ]
  },
  {
   "cell_type": "code",
   "execution_count": null,
   "metadata": {
    "colab": {},
    "colab_type": "code",
    "id": "6voD_oajpFHO"
   },
   "outputs": [],
   "source": [
    "# salida normal\n",
    "3+6"
   ]
  },
  {
   "cell_type": "code",
   "execution_count": null,
   "metadata": {
    "colab": {},
    "colab_type": "code",
    "id": "AkWGqchvpYMW"
   },
   "outputs": [],
   "source": [
    "# salida print\n",
    "3+6\n",
    "print(4)\n",
    "7"
   ]
  },
  {
   "cell_type": "markdown",
   "metadata": {
    "colab_type": "text",
    "id": "JOm8CO5LpZA2"
   },
   "source": [
    "Añadir varios elementos al comando"
   ]
  },
  {
   "cell_type": "code",
   "execution_count": 5,
   "metadata": {
    "colab": {},
    "colab_type": "code",
    "id": "QY-8WqRspe5V"
   },
   "outputs": [
    {
     "name": "stdout",
     "output_type": "stream",
     "text": [
      "Hola  mundo\n"
     ]
    }
   ],
   "source": [
    "print (\"Hola \", \"mundo\")"
   ]
  },
  {
   "cell_type": "code",
   "execution_count": 9,
   "metadata": {},
   "outputs": [
    {
     "name": "stdout",
     "output_type": "stream",
     "text": [
      "El valor de la variable es: 5\n"
     ]
    }
   ],
   "source": [
    "variable = 5\n",
    "print (\"El valor de la variable es:\",variable)"
   ]
  },
  {
   "cell_type": "code",
   "execution_count": 10,
   "metadata": {},
   "outputs": [
    {
     "name": "stdout",
     "output_type": "stream",
     "text": [
      "El valor de la variable 5 es 5\n"
     ]
    }
   ],
   "source": [
    "variable = 5\n",
    "print (\"El valor de la variable\",variable,\"es\",variable)"
   ]
  },
  {
   "cell_type": "code",
   "execution_count": 11,
   "metadata": {},
   "outputs": [
    {
     "name": "stdout",
     "output_type": "stream",
     "text": [
      "El valor de la variable 5 es mayor que 3\n"
     ]
    }
   ],
   "source": [
    "print (\"El valor de la variable\",variable,\"es mayor que\",3)"
   ]
  },
  {
   "cell_type": "code",
   "execution_count": 13,
   "metadata": {},
   "outputs": [
    {
     "name": "stdout",
     "output_type": "stream",
     "text": [
      "El valor de la variable:5 es mayor que 3\n"
     ]
    }
   ],
   "source": [
    "print (f\"El valor de la variable:{variable} es mayor que {3}\")"
   ]
  },
  {
   "cell_type": "markdown",
   "metadata": {
    "colab_type": "text",
    "id": "DC_EPtdYphXd"
   },
   "source": [
    "# Input\n",
    "Captura de la entrada de teclado"
   ]
  },
  {
   "cell_type": "code",
   "execution_count": 14,
   "metadata": {
    "colab": {},
    "colab_type": "code",
    "id": "32Md5iTjpvoc"
   },
   "outputs": [
    {
     "name": "stdout",
     "output_type": "stream",
     "text": [
      "Escribe tu nombre:Sonia\n"
     ]
    },
    {
     "data": {
      "text/plain": [
       "'Sonia'"
      ]
     },
     "execution_count": 14,
     "metadata": {},
     "output_type": "execute_result"
    }
   ],
   "source": [
    "input(\"Escribe tu nombre:\")"
   ]
  },
  {
   "cell_type": "code",
   "execution_count": null,
   "metadata": {},
   "outputs": [],
   "source": [
    "sName = input(\"Escribe tu nombre:\")\n",
    "print (sName)"
   ]
  },
  {
   "cell_type": "markdown",
   "metadata": {
    "colab_type": "text",
    "id": "ULN95iMNp3Qe"
   },
   "source": [
    "## Operaciones matemáticas con la entrada del input\n",
    "\n",
    "Sabiendo que una maraton son 42.2km escribiremos un programa que le preguntara al usuario cuantos minutos tardó en realizarla, y con eso calculará el ritmo medio al que corrió."
   ]
  },
  {
   "cell_type": "code",
   "execution_count": 7,
   "metadata": {
    "colab": {},
    "colab_type": "code",
    "id": "28I6saxGqZ3y"
   },
   "outputs": [
    {
     "name": "stdout",
     "output_type": "stream",
     "text": [
      "Digite cuantos minutos tardó en realizar la maraton:50\n",
      "El ritmo medio al que corrió la maraton de 42.2km, en la que tardó 50.0m ha sido de:1.18m\n"
     ]
    }
   ],
   "source": [
    "DISTANCIAMARATON = 42.2\n",
    "#TU CÓDIGO AQUÍ\n",
    "Minutos = input(\"Digite cuantos minutos tardó en realizar la maraton:\")\n",
    "fMinutos = float(Minutos)\n",
    "fRitmoMedio = round((fMinutos/DISTANCIAMARATON),2)\n",
    "\n",
    "print(f\"El ritmo medio al que corrió la maraton de {DISTANCIAMARATON}km, en la que tardó {fMinutos}m ha sido de:{fRitmoMedio}m\")\n"
   ]
  },
  {
   "cell_type": "code",
   "execution_count": null,
   "metadata": {},
   "outputs": [],
   "source": []
  }
 ],
 "metadata": {
  "colab": {
   "collapsed_sections": [],
   "name": "pythonUPVX18.ipynb",
   "provenance": []
  },
  "kernelspec": {
   "display_name": "Python 3",
   "language": "python",
   "name": "python3"
  },
  "language_info": {
   "codemirror_mode": {
    "name": "ipython",
    "version": 3
   },
   "file_extension": ".py",
   "mimetype": "text/x-python",
   "name": "python",
   "nbconvert_exporter": "python",
   "pygments_lexer": "ipython3",
   "version": "3.7.4"
  }
 },
 "nbformat": 4,
 "nbformat_minor": 1
}
