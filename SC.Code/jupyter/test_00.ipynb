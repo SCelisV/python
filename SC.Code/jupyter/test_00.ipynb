{
 "cells": [
  {
   "cell_type": "code",
   "execution_count": 8,
   "metadata": {},
   "outputs": [
    {
     "name": "stdout",
     "output_type": "stream",
     "text": [
      "AltCar1: 1\n"
     ]
    }
   ],
   "source": [
    "AltCar1 = 1\n",
    "AltC4r1 = 3\n",
    "AltCarl = -1\n",
    "AItCar1 = 2\n",
    "print(f\"AltCar1: {AltCar1}\")"
   ]
  },
  {
   "cell_type": "code",
   "execution_count": 9,
   "metadata": {},
   "outputs": [
    {
     "data": {
      "text/plain": [
       "float"
      ]
     },
     "execution_count": 9,
     "metadata": {},
     "output_type": "execute_result"
    }
   ],
   "source": [
    "type(7+9.3)"
   ]
  },
  {
   "cell_type": "code",
   "execution_count": 10,
   "metadata": {},
   "outputs": [
    {
     "data": {
      "text/plain": [
       "True"
      ]
     },
     "execution_count": 10,
     "metadata": {},
     "output_type": "execute_result"
    }
   ],
   "source": [
    "4==4 or 4>5"
   ]
  },
  {
   "cell_type": "code",
   "execution_count": 1,
   "metadata": {},
   "outputs": [
    {
     "data": {
      "text/plain": [
       "[1, 2, 3]"
      ]
     },
     "execution_count": 1,
     "metadata": {},
     "output_type": "execute_result"
    }
   ],
   "source": [
    "list(range(1,4))"
   ]
  },
  {
   "cell_type": "code",
   "execution_count": 5,
   "metadata": {},
   "outputs": [
    {
     "name": "stdout",
     "output_type": "stream",
     "text": [
      "Introduce un número:g\n",
      "El dato de entrada debe ser un número, por favor intentelo de nuevo\n",
      "finalizar\n"
     ]
    }
   ],
   "source": [
    "try:\n",
    "    num = input('Introduce un número:')\n",
    "    iNum = int(num)\n",
    "except Exception as e: #no va a dar error\n",
    "    iNum = -1\n",
    "\n",
    "if iNum == -1:\n",
    "    print ('El dato de entrada debe ser un número, por favor intentelo de nuevo')\n",
    "else:\n",
    "    iMod = float(iNum%2)\n",
    "    if(iMod==0):\n",
    "        print(f\"El número {iNum} ,es un número PAR\")\n",
    "    else:\n",
    "        print(f\"El número {iNum}, es un número iMPar\")  \n",
    "\n",
    "print(\"finalizar\")"
   ]
  },
  {
   "cell_type": "code",
   "execution_count": 6,
   "metadata": {},
   "outputs": [
    {
     "name": "stdout",
     "output_type": "stream",
     "text": [
      "6.0\n"
     ]
    }
   ],
   "source": [
    "num = 18\n",
    "intNum=int(num)\n",
    "if (intNum%3==0):\n",
    "    print(num/3)"
   ]
  },
  {
   "cell_type": "code",
   "execution_count": null,
   "metadata": {},
   "outputs": [],
   "source": []
  }
 ],
 "metadata": {
  "kernelspec": {
   "display_name": "Python 3",
   "language": "python",
   "name": "python3"
  },
  "language_info": {
   "codemirror_mode": {
    "name": "ipython",
    "version": 3
   },
   "file_extension": ".py",
   "mimetype": "text/x-python",
   "name": "python",
   "nbconvert_exporter": "python",
   "pygments_lexer": "ipython3",
   "version": "3.7.4"
  }
 },
 "nbformat": 4,
 "nbformat_minor": 2
}
