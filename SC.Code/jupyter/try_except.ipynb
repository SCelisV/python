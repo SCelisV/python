{
 "cells": [
  {
   "cell_type": "markdown",
   "metadata": {
    "colab_type": "text",
    "id": "LcllXzQOmlgc"
   },
   "source": [
    "# Errores de ejecución"
   ]
  },
  {
   "cell_type": "code",
   "execution_count": 0,
   "metadata": {
    "colab": {},
    "colab_type": "code",
    "id": "KWlupvbWmqpL"
   },
   "outputs": [],
   "source": [
    "10/0"
   ]
  },
  {
   "cell_type": "code",
   "execution_count": 0,
   "metadata": {
    "colab": {},
    "colab_type": "code",
    "id": "41aC-7afms4S"
   },
   "outputs": [],
   "source": [
    "4 + spam*2"
   ]
  },
  {
   "cell_type": "code",
   "execution_count": 0,
   "metadata": {
    "colab": {},
    "colab_type": "code",
    "id": "4Pu3Do-fmvlp"
   },
   "outputs": [],
   "source": [
    "'2'+ 2"
   ]
  },
  {
   "cell_type": "markdown",
   "metadata": {
    "colab_type": "text",
    "id": "1sCfVGYPmwjT"
   },
   "source": [
    "además errores de archivo, conexión, comunicación, entrada de datos..."
   ]
  },
  {
   "cell_type": "markdown",
   "metadata": {
    "colab_type": "text",
    "id": "mt80SWvrerLI"
   },
   "source": [
    "# Manejando errores\n",
    "\n",
    "Supongamos que le pedimos al usuario que nos introduzca un número para hacer un cálculo pero..."
   ]
  },
  {
   "cell_type": "code",
   "execution_count": 1,
   "metadata": {
    "colab": {},
    "colab_type": "code",
    "id": "vp5sjAKDebTd"
   },
   "outputs": [
    {
     "name": "stdout",
     "output_type": "stream",
     "text": [
      "Escribe el número:fhlaksdjh\n"
     ]
    },
    {
     "ename": "ValueError",
     "evalue": "invalid literal for int() with base 10: 'fhlaksdjh'",
     "output_type": "error",
     "traceback": [
      "\u001b[0;31m----------------------------------------------------------------------\u001b[0m",
      "\u001b[0;31mValueError\u001b[0m                           Traceback (most recent call last)",
      "\u001b[0;32m<ipython-input-1-d33f61ffe1cf>\u001b[0m in \u001b[0;36m<module>\u001b[0;34m\u001b[0m\n\u001b[1;32m      1\u001b[0m \u001b[0mvalor\u001b[0m \u001b[0;34m=\u001b[0m \u001b[0minput\u001b[0m\u001b[0;34m(\u001b[0m\u001b[0;34m'Escribe el número:'\u001b[0m\u001b[0;34m)\u001b[0m \u001b[0;31m#pero el usuario lo pone con letras\u001b[0m\u001b[0;34m\u001b[0m\u001b[0;34m\u001b[0m\u001b[0m\n\u001b[0;32m----> 2\u001b[0;31m \u001b[0mvalor_numerico\u001b[0m \u001b[0;34m=\u001b[0m \u001b[0mint\u001b[0m\u001b[0;34m(\u001b[0m\u001b[0mvalor\u001b[0m\u001b[0;34m)\u001b[0m\u001b[0;34m\u001b[0m\u001b[0;34m\u001b[0m\u001b[0m\n\u001b[0m\u001b[1;32m      3\u001b[0m \u001b[0mresultado\u001b[0m \u001b[0;34m=\u001b[0m \u001b[0mvalor_numerico\u001b[0m \u001b[0;34m+\u001b[0m \u001b[0;36m3\u001b[0m\u001b[0;34m\u001b[0m\u001b[0;34m\u001b[0m\u001b[0m\n\u001b[1;32m      4\u001b[0m \u001b[0mprint\u001b[0m\u001b[0;34m(\u001b[0m\u001b[0mresultado\u001b[0m\u001b[0;34m)\u001b[0m\u001b[0;34m\u001b[0m\u001b[0;34m\u001b[0m\u001b[0m\n",
      "\u001b[0;31mValueError\u001b[0m: invalid literal for int() with base 10: 'fhlaksdjh'"
     ]
    }
   ],
   "source": [
    "valor = input('Escribe el número:') #pero el usuario lo pone con letras\n",
    "valor_numerico = int(valor)\n",
    "resultado = valor_numerico + 3\n",
    "print(resultado)"
   ]
  },
  {
   "cell_type": "markdown",
   "metadata": {
    "colab_type": "text",
    "id": "HdfUHMlcfHsA"
   },
   "source": [
    "El bloque try/except"
   ]
  },
  {
   "cell_type": "code",
   "execution_count": 6,
   "metadata": {
    "colab": {
     "base_uri": "https://localhost:8080/",
     "height": 51
    },
    "colab_type": "code",
    "executionInfo": {
     "elapsed": 1857,
     "status": "ok",
     "timestamp": 1576598012510,
     "user": {
      "displayName": "Leo Salom",
      "photoUrl": "https://lh3.googleusercontent.com/a-/AAuE7mBWrU9A9PXLcaPaMIEPXT8vKmpShYH2PtLETEIgGQ=s64",
      "userId": "07470075073569383292"
     },
     "user_tz": -60
    },
    "id": "t0cthfSufg1u",
    "outputId": "3a6a717c-231a-450c-f4f5-9beae82dae65"
   },
   "outputs": [
    {
     "name": "stdout",
     "output_type": "stream",
     "text": [
      "Escribe el número:3\n",
      "6\n"
     ]
    }
   ],
   "source": [
    "try:\n",
    "  valor = input('Escribe el número:') #pero el usuario lo pone con letras\n",
    "  valorNumerico = int(valor)\n",
    "  resultado = valorNumerico + 3\n",
    "  print(resultado)\n",
    "except Exception as e:\n",
    "    print('Hemos subrido un error debido a que:',str(e))"
   ]
  },
  {
   "cell_type": "markdown",
   "metadata": {
    "colab_type": "text",
    "id": "WpdbQp0JgD7g"
   },
   "source": [
    "Esto resuelve nuestro problema si nuestro programa es así de sencillo pero que pasa cuando nuestra aplicación debe seguir realizando cosas con el contenido de la variable **valorNumerico** más adelante? "
   ]
  },
  {
   "cell_type": "code",
   "execution_count": 7,
   "metadata": {
    "colab": {},
    "colab_type": "code",
    "id": "1CV4yOs3gS3X"
   },
   "outputs": [
    {
     "name": "stdout",
     "output_type": "stream",
     "text": [
      "Escribe el número:3\n",
      "6\n",
      "6\n"
     ]
    }
   ],
   "source": [
    "try:\n",
    "  valor = input('Escribe el número:') #pero el usuario lo pone con letras\n",
    "  valorNumerico = int(valor)\n",
    "  resultado = valorNumerico + 3\n",
    "  print(resultado)\n",
    "except:\n",
    "    valorNumerico = 0\n",
    "\n",
    "print(valorNumerico + 3)"
   ]
  },
  {
   "cell_type": "markdown",
   "metadata": {
    "colab_type": "text",
    "id": "MyiOEjgtgm1H"
   },
   "source": [
    "## No es aconsejable try - largos"
   ]
  },
  {
   "cell_type": "code",
   "execution_count": 8,
   "metadata": {
    "colab": {
     "base_uri": "https://localhost:8080/",
     "height": 34
    },
    "colab_type": "code",
    "executionInfo": {
     "elapsed": 628,
     "status": "ok",
     "timestamp": 1576597469861,
     "user": {
      "displayName": "Leo Salom",
      "photoUrl": "https://lh3.googleusercontent.com/a-/AAuE7mBWrU9A9PXLcaPaMIEPXT8vKmpShYH2PtLETEIgGQ=s64",
      "userId": "07470075073569383292"
     },
     "user_tz": -60
    },
    "id": "ry2ulOoCgxgG",
    "outputId": "4a87c7b3-c6f7-4162-9323-eeb6494a1271"
   },
   "outputs": [
    {
     "name": "stdout",
     "output_type": "stream",
     "text": [
      "3\n"
     ]
    }
   ],
   "source": [
    "try:\n",
    "  valor = 'siete' \n",
    "  valorNumerico = int(valor) \n",
    "  resultado = valorNumerico + 3 #esto no se ejecutará porque falla en la linea anterior\n",
    "  print(resultado)\n",
    "except ValueError:\n",
    "    valorNumerico = 0\n",
    "\n",
    "print(valorNumerico + 3)"
   ]
  },
  {
   "cell_type": "markdown",
   "metadata": {},
   "source": [
    "# Tipos de errores dependiendo de la excepción"
   ]
  },
  {
   "cell_type": "markdown",
   "metadata": {
    "colab_type": "text",
    "id": "Myt_kIRQkiZW"
   },
   "source": [
    "[documentación de python](https://docs.python.org/3/library/exceptions.html#Exception)"
   ]
  },
  {
   "cell_type": "code",
   "execution_count": 11,
   "metadata": {
    "colab": {},
    "colab_type": "code",
    "id": "AP6IIt-Mkvks"
   },
   "outputs": [
    {
     "name": "stdout",
     "output_type": "stream",
     "text": [
      "Introduce un valor :gg\n",
      "except ValueError\n",
      "3\n"
     ]
    }
   ],
   "source": [
    "try:\n",
    "  valor = input('Introduce un valor :') \n",
    "  valorNumerico = int(valor) #/0 #/dos\n",
    "  resultado = valorNumerico + 3 \n",
    "  print(resultado)\n",
    "except ArithmeticError:\n",
    "    print(\"except ValueError\")\n",
    "    print('Error aritmético')\n",
    "except ValueError:\n",
    "    print(\"except ValueError\")\n",
    "    valorNumerico = 0\n",
    "except Exception as e:\n",
    "   print('Hemos subrido un error debido a que:',str(e))\n",
    "\n",
    "print(valorNumerico + 3)"
   ]
  },
  {
   "cell_type": "markdown",
   "metadata": {
    "colab_type": "text",
    "id": "Dh2TZWoShMMX"
   },
   "source": [
    "## finally se ejecuta siempre independientemente de lo que haya sucedido tanto si funciona como no"
   ]
  },
  {
   "cell_type": "markdown",
   "metadata": {
    "colab_type": "text",
    "id": "POWZxfdxinM_"
   },
   "source": [
    "Especialmente util para cerrar ficheros/conexiones a bases de datos/ sockets y básicamente el acceso a cualquier recurso bloqueante que pueda necesitar nuestra aplicación u otras aplicaciones."
   ]
  },
  {
   "cell_type": "code",
   "execution_count": 13,
   "metadata": {
    "colab": {},
    "colab_type": "code",
    "id": "-qDlfkYJhpuz"
   },
   "outputs": [
    {
     "name": "stdout",
     "output_type": "stream",
     "text": [
      "3\n"
     ]
    }
   ],
   "source": [
    "try:\n",
    "  valor = \"siete\"\n",
    "  valorNumerico = int(valor) \n",
    "  resultado = valorNumerico + 3 #esto no se ejecutará porque falla en la linea anterior\n",
    "  print(resultado)\n",
    "except ValueError:\n",
    "    valorNumerico = 0\n",
    "finally:\n",
    "  print(valorNumerico + 3)"
   ]
  }
 ],
 "metadata": {
  "colab": {
   "collapsed_sections": [],
   "name": "pythonUPVX20.ipynb",
   "provenance": []
  },
  "kernelspec": {
   "display_name": "Python 3",
   "language": "python",
   "name": "python3"
  },
  "language_info": {
   "codemirror_mode": {
    "name": "ipython",
    "version": 3
   },
   "file_extension": ".py",
   "mimetype": "text/x-python",
   "name": "python",
   "nbconvert_exporter": "python",
   "pygments_lexer": "ipython3",
   "version": "3.7.4"
  }
 },
 "nbformat": 4,
 "nbformat_minor": 1
}
