{
 "cells": [
  {
   "cell_type": "markdown",
   "metadata": {
    "colab_type": "text",
    "id": "FKBFbo1UVvAB"
   },
   "source": [
    "## Cuales son las variables de este ejemplo ?\n",
    "\n",
    "Un tren sale desde Madrid en dirección a valencia a las 9:00 y otro sale en dirección contraria a las 11:00, si sabemos que la distancia a recorrer son 350km y el primer tren va a 100km/h y el segundo tren va a 300km/h ¿En que punto se encontraran?"
   ]
  },
  {
   "cell_type": "code",
   "execution_count": 2,
   "metadata": {
    "colab": {},
    "colab_type": "code",
    "id": "MDVbRX9oVp3t"
   },
   "outputs": [],
   "source": [
    "salidaTrenA = 9\n",
    "salidaTrenB = 11\n",
    "velocidadTrenA = 100\n",
    "velocidadTrenB =300\n",
    "distancia =350"
   ]
  },
  {
   "cell_type": "markdown",
   "metadata": {
    "colab_type": "text",
    "id": "aPms6VmtWOfB"
   },
   "source": [
    "# Reglas de los nómbres"
   ]
  },
  {
   "cell_type": "code",
   "execution_count": 3,
   "metadata": {
    "colab": {},
    "colab_type": "code",
    "id": "dsNmUSIhWSqH"
   },
   "outputs": [],
   "source": [
    "tren = 3\n",
    "_tren = 3\n",
    "TrEn = 2"
   ]
  },
  {
   "cell_type": "code",
   "execution_count": 1,
   "metadata": {
    "colab": {},
    "colab_type": "code",
    "id": "zQZb_8KyWcTg"
   },
   "outputs": [
    {
     "ename": "SyntaxError",
     "evalue": "invalid syntax (<ipython-input-1-262f14dd0926>, line 1)",
     "output_type": "error",
     "traceback": [
      "\u001b[0;36m  File \u001b[0;32m\"<ipython-input-1-262f14dd0926>\"\u001b[0;36m, line \u001b[0;32m1\u001b[0m\n\u001b[0;31m    0tren = 3\u001b[0m\n\u001b[0m        ^\u001b[0m\n\u001b[0;31mSyntaxError\u001b[0m\u001b[0;31m:\u001b[0m invalid syntax\n"
     ]
    }
   ],
   "source": [
    "0tren = 3"
   ]
  },
  {
   "cell_type": "code",
   "execution_count": 4,
   "metadata": {
    "colab": {},
    "colab_type": "code",
    "id": "S7OeiU1bWi5v"
   },
   "outputs": [
    {
     "ename": "SyntaxError",
     "evalue": "invalid syntax (<ipython-input-4-cfa9d6f8e0c4>, line 1)",
     "output_type": "error",
     "traceback": [
      "\u001b[0;36m  File \u001b[0;32m\"<ipython-input-4-cfa9d6f8e0c4>\"\u001b[0;36m, line \u001b[0;32m1\u001b[0m\n\u001b[0;31m    tr$en = 3\u001b[0m\n\u001b[0m      ^\u001b[0m\n\u001b[0;31mSyntaxError\u001b[0m\u001b[0;31m:\u001b[0m invalid syntax\n"
     ]
    }
   ],
   "source": [
    "tr$en = 3"
   ]
  },
  {
   "cell_type": "markdown",
   "metadata": {
    "colab_type": "text",
    "id": "dNuo1mhsWzeT"
   },
   "source": [
    "# Nombres cortos ó comprensibles?"
   ]
  },
  {
   "cell_type": "code",
   "execution_count": 5,
   "metadata": {
    "colab": {},
    "colab_type": "code",
    "id": "dXxLkwVXW3Zj"
   },
   "outputs": [],
   "source": [
    "sA = 9\n",
    "sB = 11\n",
    "vA = 100\n",
    "vB =300\n",
    "d =350"
   ]
  },
  {
   "cell_type": "markdown",
   "metadata": {
    "colab_type": "text",
    "id": "vVlZYaN-W-Iy"
   },
   "source": [
    "al acortar los nombres escribimos más rapido pero un lector anglosajón podría confundir sA por speed A y no comprender nuestro código correctamente"
   ]
  },
  {
   "cell_type": "markdown",
   "metadata": {
    "colab_type": "text",
    "id": "2yD50FhfWwEm"
   },
   "source": [
    "# case sensitive"
   ]
  },
  {
   "cell_type": "code",
   "execution_count": 6,
   "metadata": {
    "colab": {},
    "colab_type": "code",
    "id": "joYq0ed2WpDs"
   },
   "outputs": [
    {
     "data": {
      "text/plain": [
       "3"
      ]
     },
     "execution_count": 6,
     "metadata": {},
     "output_type": "execute_result"
    }
   ],
   "source": [
    "tren"
   ]
  },
  {
   "cell_type": "code",
   "execution_count": 7,
   "metadata": {
    "colab": {},
    "colab_type": "code",
    "id": "MBrTxNvcWsWE"
   },
   "outputs": [
    {
     "data": {
      "text/plain": [
       "2"
      ]
     },
     "execution_count": 7,
     "metadata": {},
     "output_type": "execute_result"
    }
   ],
   "source": [
    "TrEn"
   ]
  },
  {
   "cell_type": "markdown",
   "metadata": {
    "colab_type": "text",
    "id": "2yD50FhfWwEm"
   },
   "source": [
    "# coherencia - asignación"
   ]
  },
  {
   "cell_type": "code",
   "execution_count": 0,
   "metadata": {
    "colab": {},
    "colab_type": "code",
    "id": "t48gLGbrZ4el"
   },
   "outputs": [],
   "source": [
    "numero = 3"
   ]
  },
  {
   "cell_type": "code",
   "execution_count": 0,
   "metadata": {
    "colab": {},
    "colab_type": "code",
    "id": "JLUuFWPzZ6XH"
   },
   "outputs": [],
   "source": [
    "texto = \"hola\""
   ]
  },
  {
   "cell_type": "code",
   "execution_count": 0,
   "metadata": {
    "colab": {},
    "colab_type": "code",
    "id": "YpNyLF6_Z7-0"
   },
   "outputs": [],
   "source": [
    "logico = True"
   ]
  }
 ],
 "metadata": {
  "colab": {
   "collapsed_sections": [],
   "name": "PythonUPVX10.ipynb",
   "provenance": []
  },
  "kernelspec": {
   "display_name": "Python 3",
   "language": "python",
   "name": "python3"
  },
  "language_info": {
   "codemirror_mode": {
    "name": "ipython",
    "version": 3
   },
   "file_extension": ".py",
   "mimetype": "text/x-python",
   "name": "python",
   "nbconvert_exporter": "python",
   "pygments_lexer": "ipython3",
   "version": "3.7.4"
  }
 },
 "nbformat": 4,
 "nbformat_minor": 1
}
